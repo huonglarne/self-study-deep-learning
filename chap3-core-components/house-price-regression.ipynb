{
 "cells": [
  {
   "cell_type": "code",
   "execution_count": 1,
   "metadata": {},
   "outputs": [],
   "source": [
    "from keras.datasets import boston_housing\n",
    "(x_train, y_train), (x_test, y_test) = boston_housing.load_data()"
   ]
  },
  {
   "cell_type": "code",
   "execution_count": 2,
   "metadata": {},
   "outputs": [
    {
     "name": "stdout",
     "output_type": "stream",
     "text": [
      "(404, 13) (404,)\n"
     ]
    }
   ],
   "source": [
    "print(x_train.shape, y_train.shape)"
   ]
  },
  {
   "cell_type": "code",
   "execution_count": 3,
   "metadata": {},
   "outputs": [
    {
     "name": "stdout",
     "output_type": "stream",
     "text": [
      "(102, 13) (102,)\n"
     ]
    }
   ],
   "source": [
    "print(x_test.shape, y_test.shape)"
   ]
  },
  {
   "cell_type": "code",
   "execution_count": 4,
   "metadata": {},
   "outputs": [],
   "source": [
    "import matplotlib.pyplot as plt"
   ]
  },
  {
   "cell_type": "code",
   "execution_count": 5,
   "metadata": {
    "scrolled": true
   },
   "outputs": [
    {
     "data": {
      "text/plain": [
       "<matplotlib.collections.PathCollection at 0x7efd67935b80>"
      ]
     },
     "execution_count": 5,
     "metadata": {},
     "output_type": "execute_result"
    },
    {
     "data": {
      "image/png": "[encoded data removed]",
      "text/plain": [
       "<Figure size 432x288 with 1 Axes>"
      ]
     },
     "metadata": {
      "needs_background": "light"
     },
     "output_type": "display_data"
    }
   ],
   "source": [
    "plt.scatter(range(len(y_train)), y_train)"
   ]
  },
  {
   "cell_type": "code",
   "execution_count": 7,
   "metadata": {},
   "outputs": [],
   "source": [
    "samples = np.asarray(y_train.reshape(404,1)).astype('float64')\n",
    "samples = np.concatenate((x_train, samples), axis=1)"
   ]
  },
  {
   "cell_type": "markdown",
   "metadata": {},
   "source": [
    "So from my perspective, there are 4 main price ranges and I'm gonna label the data according to them"
   ]
  },
  {
   "cell_type": "code",
   "execution_count": 66,
   "metadata": {},
   "outputs": [],
   "source": [
    "def convert_labels(y):\n",
    "    labels = np.zeros(len(y))\n",
    "\n",
    "    for i, price in enumerate(y):\n",
    "        if price<15:\n",
    "           labels[i]=0\n",
    "        elif price>=15 and price<25:\n",
    "            labels[i]=1\n",
    "        elif price>=25 and price<40:\n",
    "            labels[i]=2\n",
    "        else:\n",
    "            labels[i]=3\n",
    "    \n",
    "    return labels"
   ]
  },
  {
   "cell_type": "code",
   "execution_count": 68,
   "metadata": {},
   "outputs": [],
   "source": [
    "labels_train = convert_labels(y_train)"
   ]
  },
  {
   "cell_type": "markdown",
   "metadata": {},
   "source": [
    "Now I'm gonna use t-SNE to visualize data points and see if they make clusters or not."
   ]
  },
  {
   "cell_type": "code",
   "execution_count": 6,
   "metadata": {},
   "outputs": [],
   "source": [
    "from sklearn.manifold import TSNE\n",
    "import pandas\n",
    "from plotly import express as px\n",
    "import numpy as np"
   ]
  },
  {
   "cell_type": "code",
   "execution_count": 73,
   "metadata": {},
   "outputs": [
    {
     "data": {
      "application/vnd.plotly.v1+json": {
       "config": {
        "plotlyServerURL": "https://plot.ly"
       },
       "data": [
        {
         "hovertemplate": "range=1.0<br>0=%{x}<br>1=%{y}<extra></extra>",
         "legendgroup": "1.0",
         "marker": {
          "color": "#636efa",
          "symbol": "circle"
         },
         "mode": "markers",
         "name": "1.0",
         "orientation": "v",
         "showlegend": true,
         "type": "scatter",
         "x": [
          10.396275520324707,
          13.550130844116211,
          -25.38765525817871,
          10.790179252624512,
          -4.608291149139404,
          -5.417821407318115,
          -29.014476776123047,
          2.3146274089813232,
          -25.998687744140625,
          0.15781183540821075,
          16.569169998168945,
          16.07956886291504,
          2.581606864929199,
          13.05844497680664,
          7.51083517074585,
          11.057236671447754,
          6.322361946105957,
          16.663286209106445,
          -25.6538028717041,
          11.541778564453125,
          11.560132026672363,
          7.7147722244262695,
          0.24437402188777924,
          12.404848098754883,
          14.146419525146484,
          -27.077056884765625,
          10.69253921508789,
          2.1850945949554443,
          8.97463607788086,
          -23.721277236938477,
          12.559866905212402,
          16.693557739257812,
          -2.4894680976867676,
          1.0618647336959839,
          1.078489065170288,
          6.0411272048950195,
          9.471940994262695,
          3.0062904357910156,
          -11.408271789550781,
          12.111923217773438,
          8.587800979614258,
          15.734844207763672,
          18.552261352539062,
          10.581439018249512,
          16.351242065429688,
          3.2637219429016113,
          14.082277297973633,
          -23.94851303100586,
          9.338750839233398,
          17.468883514404297,
          11.9153413772583,
          6.182703495025635,
          -27.374862670898438,
          14.865474700927734,
          11.883814811706543,
          -11.814017295837402,
          8.744349479675293,
          2.797037363052368,
          7.072186470031738,
          14.947160720825195,
          16.121065139770508,
          4.458587646484375,
          12.542819023132324,
          2.1505126953125,
          10.666314125061035,
          8.329729080200195,
          12.234700202941895,
          12.40938663482666,
          5.467589378356934,
          7.850292205810547,
          0.8251755833625793,
          16.794342041015625,
          7.67168664932251,
          2.9198622703552246,
          5.268343448638916,
          16.832868576049805,
          -25.414119720458984,
          -30.46687126159668,
          13.060338020324707,
          3.5353662967681885,
          10.430680274963379,
          -4.381558895111084,
          15.01594066619873,
          -23.36365509033203,
          -11.563082695007324,
          18.131370544433594,
          1.002122163772583,
          9.37533187866211,
          15.073419570922852,
          12.627324104309082,
          15.041032791137695,
          1.7396880388259888,
          -25.056922912597656,
          12.568206787109375,
          7.865838050842285,
          3.3611397743225098,
          17.54473304748535,
          -25.502201080322266,
          -11.565868377685547,
          9.010534286499023,
          3.97784686088562,
          4.331298828125,
          4.842300891876221,
          -12.858728408813477,
          3.0977909564971924,
          12.896589279174805,
          15.625015258789062,
          5.871910095214844,
          5.958616733551025,
          14.82133960723877,
          -1.7312703132629395,
          10.225403785705566,
          -25.703657150268555,
          12.375024795532227,
          4.8817853927612305,
          6.596859455108643,
          13.294134140014648,
          -2.920107841491699,
          11.032526016235352,
          9.094755172729492,
          -4.023474216461182,
          3.2126128673553467,
          -28.427326202392578,
          11.696863174438477,
          11.85903263092041,
          -24.993297576904297,
          -2.3758368492126465,
          1.8414292335510254,
          -12.439316749572754,
          8.195704460144043,
          2.869523048400879,
          -24.34419822692871,
          -28.726463317871094,
          -10.92325210571289,
          4.587240219116211,
          3.508758544921875,
          -12.159926414489746,
          12.839953422546387,
          -24.83206558227539,
          -26.50490951538086,
          -2.765145778656006,
          -27.563072204589844,
          -10.845285415649414,
          17.828393936157227,
          -24.639007568359375,
          -4.775339603424072,
          4.735808849334717,
          2.721226453781128,
          3.064220666885376,
          -2.817293643951416,
          14.24312686920166,
          -10.443719863891602,
          12.819552421569824,
          -24.605653762817383,
          8.63606071472168,
          11.037091255187988,
          15.545562744140625,
          10.541763305664062,
          -11.448429107666016,
          13.225055694580078,
          -26.589990615844727,
          3.781381368637085,
          -33.288818359375,
          8.28426742553711,
          6.2832112312316895,
          1.056153655052185,
          7.82519006729126,
          16.509017944335938,
          -21.670578002929688,
          0.27794039249420166,
          13.147252082824707,
          10.09521198272705,
          -24.951000213623047,
          17.162126541137695,
          14.701361656188965,
          15.65614128112793,
          12.027785301208496,
          5.721301555633545,
          4.15178108215332,
          -25.06304931640625,
          8.064250946044922,
          16.616840362548828,
          -21.87984275817871,
          8.4185152053833,
          11.942354202270508,
          17.699899673461914,
          6.262817859649658,
          11.39003849029541,
          -25.250398635864258,
          15.767960548400879,
          -18.912094116210938,
          6.168270587921143,
          17.866291046142578,
          -25.051694869995117,
          14.56777286529541,
          -2.183454990386963,
          8.600762367248535,
          16.895803451538086,
          10.62083911895752,
          9.789960861206055,
          10.690522193908691,
          -26.973472595214844,
          7.39829158782959,
          3.4539172649383545,
          4.646226406097412,
          -25.6746826171875,
          8.889945983886719,
          5.4093170166015625,
          16.568288803100586,
          -32.23991012573242,
          16.10839080810547,
          7.797901630401611,
          8.848502159118652,
          3.048898458480835,
          -27.980546951293945,
          5.09873628616333,
          2.342106819152832,
          2.8483664989471436,
          16.60664939880371,
          11.029261589050293,
          -11.843655586242676,
          13.069695472717285,
          -24.679475784301758,
          -18.911293029785156,
          9.20287036895752,
          14.62142276763916,
          16.009490966796875,
          -4.8419342041015625
         ],
         "xaxis": "x",
         "y": [
          4.30935525894165,
          -5.155694007873535,
          15.269399642944336,
          -0.1654682159423828,
          6.36146354675293,
          4.926120281219482,
          25.564733505249023,
          -4.124080181121826,
          15.213926315307617,
          10.748374938964844,
          -21.634262084960938,
          -21.88587188720703,
          -7.980109214782715,
          -3.6843581199645996,
          -9.124672889709473,
          3.2364115715026855,
          0.6550114154815674,
          -18.47148323059082,
          16.066333770751953,
          -3.771104335784912,
          -4.853458404541016,
          -5.1385979652404785,
          13.440170288085938,
          -10.924215316772461,
          -5.520986080169678,
          16.098085403442383,
          3.7680957317352295,
          11.791606903076172,
          3.1130828857421875,
          17.485107421875,
          -3.633714199066162,
          -19.047016143798828,
          2.717468738555908,
          9.499136924743652,
          9.68777084350586,
          -12.871085166931152,
          5.434418678283691,
          13.296001434326172,
          0.5344972610473633,
          -8.10067081451416,
          0.5409238338470459,
          0.5017956495285034,
          -10.563947677612305,
          -2.629621982574463,
          -20.215763092041016,
          11.278702735900879,
          -5.462123870849609,
          12.47541618347168,
          -9.608461380004883,
          -14.881387710571289,
          -7.13382625579834,
          -2.8102352619171143,
          27.197250366210938,
          -13.111966133117676,
          -8.062829971313477,
          0.12505902349948883,
          4.775571823120117,
          -0.612642765045166,
          0.9782863855361938,
          -22.909273147583008,
          -0.6560686826705933,
          0.9123755693435669,
          -23.282615661621094,
          -6.755904197692871,
          1.177347183227539,
          -5.842997074127197,
          -21.037796020507812,
          -7.954096794128418,
          -0.04969942197203636,
          -1.3244613409042358,
          10.08430290222168,
          -11.115606307983398,
          4.595677375793457,
          11.370009422302246,
          4.999077320098877,
          -11.894102096557617,
          13.847195625305176,
          27.972021102905273,
          -9.773736953735352,
          -5.978553771972656,
          -7.305941581726074,
          4.959097385406494,
          -16.150245666503906,
          25.16232681274414,
          -0.3759533166885376,
          -11.210222244262695,
          -8.798879623413086,
          3.1883957386016846,
          -22.884239196777344,
          -4.897861957550049,
          -15.696178436279297,
          -6.183231353759766,
          12.13616943359375,
          -23.355295181274414,
          -9.137534141540527,
          12.062520027160645,
          -11.648889541625977,
          16.264568328857422,
          -0.8528643846511841,
          -6.726847171783447,
          -0.15323182940483093,
          -1.148593544960022,
          -2.6062564849853516,
          -0.380204975605011,
          -5.142018795013428,
          -7.57216739654541,
          -15.04825210571289,
          -3.830486536026001,
          -13.153769493103027,
          -16.78553581237793,
          -4.847482681274414,
          3.318405866622925,
          17.696075439453125,
          -5.706942558288574,
          0.5606503486633301,
          -0.3767290711402893,
          -22.05594253540039,
          2.3126282691955566,
          -5.743804931640625,
          5.430274486541748,
          4.000328063964844,
          -1.9331709146499634,
          17.089550018310547,
          -9.43765640258789,
          -2.341965675354004,
          13.293270111083984,
          2.0373120307922363,
          12.220094680786133,
          -0.1768009066581726,
          -13.420140266418457,
          -2.326652765274048,
          14.874860763549805,
          18.10236358642578,
          3.807908296585083,
          -5.115355968475342,
          -0.12194044888019562,
          0.4524992108345032,
          -4.368837833404541,
          16.749561309814453,
          13.448297500610352,
          2.1526098251342773,
          24.488279342651367,
          3.863185405731201,
          -14.394522666931152,
          20.091379165649414,
          6.432919025421143,
          -6.0365777015686035,
          -6.498592376708984,
          12.009303092956543,
          2.8978075981140137,
          -23.05794334411621,
          4.2079572677612305,
          -13.94386100769043,
          12.022448539733887,
          -6.297976016998291,
          -4.943504810333252,
          -9.29777717590332,
          2.9369380474090576,
          0.6456871628761292,
          -17.643535614013672,
          17.22690200805664,
          -1.9966822862625122,
          28.464750289916992,
          4.9525885581970215,
          5.8141584396362305,
          9.792805671691895,
          -13.345203399658203,
          -22.847322463989258,
          17.09390640258789,
          10.626777648925781,
          -23.924625396728516,
          2.402747392654419,
          11.412166595458984,
          -14.306937217712402,
          -13.186783790588379,
          -21.59537696838379,
          -9.986770629882812,
          1.0699976682662964,
          1.1754282712936401,
          14.969688415527344,
          4.6012678146362305,
          -9.313037872314453,
          16.19412612915039,
          4.340793609619141,
          -2.071082353591919,
          -14.131561279296875,
          -9.818243026733398,
          -7.061108112335205,
          11.65777587890625,
          -12.22433090209961,
          9.714548110961914,
          0.4791553020477295,
          -10.61577320098877,
          18.978792190551758,
          -17.07613182067871,
          2.662313461303711,
          -6.224279403686523,
          -21.51803970336914,
          -11.662206649780273,
          -9.886123657226562,
          -11.727238655090332,
          16.591951370239258,
          2.643131732940674,
          11.598597526550293,
          -1.799262523651123,
          12.051496505737305,
          0.32076919078826904,
          5.059514045715332,
          -15.418869972229004,
          28.9381160736084,
          -0.49944666028022766,
          -1.8787215948104858,
          -1.9128775596618652,
          -6.560449123382568,
          15.396833419799805,
          -3.2358238697052,
          12.350126266479492,
          12.314478874206543,
          -9.363834381103516,
          -6.187756538391113,
          -0.5486510992050171,
          -6.2244648933410645,
          15.46696949005127,
          9.743587493896484,
          -5.0968475341796875,
          -7.795375823974609,
          -15.78825569152832,
          4.94230842590332
         ],
         "yaxis": "y"
        },
        {
         "hovertemplate": "range=3.0<br>0=%{x}<br>1=%{y}<extra></extra>",
         "legendgroup": "3.0",
         "marker": {
          "color": "#EF553B",
          "symbol": "circle"
         },
         "mode": "markers",
         "name": "3.0",
         "orientation": "v",
         "showlegend": true,
         "type": "scatter",
         "x": [
          18.51036262512207,
          -21.08469581604004,
          -19.34657096862793,
          -2.834407329559326,
          19.360088348388672,
          19.429685592651367,
          -12.575628280639648,
          -1.4823298454284668,
          -2.720074415206909,
          19.02072525024414,
          -4.017696380615234,
          -3.931253433227539,
          -1.3206257820129395,
          -2.1757616996765137,
          -23.164215087890625,
          -1.6431819200515747,
          -2.0446572303771973,
          18.88524627685547,
          -19.0806941986084,
          -2.6503238677978516,
          -13.979202270507812,
          -2.6947813034057617,
          18.559526443481445,
          -19.298917770385742,
          0.7801885008811951
         ],
         "xaxis": "x",
         "y": [
          -23.798521041870117,
          16.346630096435547,
          9.044193267822266,
          -7.242678642272949,
          -24.24712371826172,
          -24.378156661987305,
          -2.5811238288879395,
          -11.144892692565918,
          -0.002611215226352215,
          -23.407995223999023,
          -7.549646377563477,
          -7.316112518310547,
          -10.914098739624023,
          -9.270195007324219,
          15.695098876953125,
          -10.661895751953125,
          -11.098538398742676,
          -24.495832443237305,
          9.462785720825195,
          0.8887922763824463,
          -1.3952760696411133,
          0.19239287078380585,
          -26.70425796508789,
          9.119600296020508,
          -11.524592399597168
         ],
         "yaxis": "y"
        },
        {
         "hovertemplate": "range=0.0<br>0=%{x}<br>1=%{y}<extra></extra>",
         "legendgroup": "0.0",
         "marker": {
          "color": "#00cc96",
          "symbol": "circle"
         },
         "mode": "markers",
         "name": "0.0",
         "orientation": "v",
         "showlegend": true,
         "type": "scatter",
         "x": [
          -23.43003273010254,
          1.5674537420272827,
          -26.492589950561523,
          -26.6202449798584,
          -27.939483642578125,
          -27.349151611328125,
          -27.510038375854492,
          12.056501388549805,
          11.169325828552246,
          -24.30200958251953,
          -31.46527671813965,
          -32.79220962524414,
          -32.33842468261719,
          -25.245128631591797,
          -32.32676696777344,
          -32.8941764831543,
          -26.097108840942383,
          -24.257762908935547,
          -31.84377098083496,
          12.66424560546875,
          -30.044876098632812,
          1.687529444694519,
          -11.050509452819824,
          -26.04283905029297,
          -4.6859354972839355,
          -30.79328155517578,
          -25.235464096069336,
          -31.40546417236328,
          -24.231882095336914,
          -30.442363739013672,
          -25.6462345123291,
          12.952909469604492,
          -27.108779907226562,
          -25.69124984741211,
          15.490286827087402,
          -24.86655044555664,
          -31.561471939086914,
          6.2747063636779785,
          -26.010164260864258,
          0.28446027636528015,
          -31.662429809570312,
          -5.6341423988342285,
          -23.874561309814453,
          11.977729797363281,
          11.138858795166016,
          -26.942602157592773,
          -4.673116683959961,
          -31.809871673583984,
          -31.386186599731445,
          -23.35580062866211,
          -23.114643096923828,
          -5.730604648590088,
          -31.745820999145508,
          -24.409324645996094,
          -25.762432098388672,
          11.5895357131958,
          -26.746334075927734,
          -27.36822509765625,
          -25.745080947875977,
          -30.179168701171875,
          -23.275611877441406,
          -23.929475784301758,
          -32.671905517578125,
          -23.866069793701172,
          -27.755950927734375,
          -26.732067108154297,
          -30.803340911865234,
          -22.818368911743164,
          2.0169267654418945,
          -23.616085052490234,
          -24.082103729248047,
          -25.750377655029297,
          1.8866811990737915,
          -28.24773597717285,
          -27.37605857849121,
          -31.1883602142334,
          -23.258880615234375
         ],
         "xaxis": "x",
         "y": [
          19.716703414916992,
          14.323131561279297,
          17.931760787963867,
          26.735605239868164,
          27.36551284790039,
          18.096878051757812,
          15.23995304107666,
          3.804872512817383,
          4.455685138702393,
          17.551050186157227,
          27.315744400024414,
          28.344959259033203,
          27.264123916625977,
          17.925737380981445,
          27.83704376220703,
          27.508625030517578,
          21.23978042602539,
          20.736774444580078,
          26.29444694519043,
          4.722638130187988,
          27.183639526367188,
          12.411381721496582,
          3.715094804763794,
          17.23525619506836,
          6.710185527801514,
          28.51756477355957,
          19.454133987426758,
          29.44171142578125,
          16.315229415893555,
          26.62803077697754,
          25.967987060546875,
          5.093338489532471,
          19.015527725219727,
          25.64822006225586,
          0.9381729364395142,
          16.445192337036133,
          28.74156951904297,
          5.848974227905273,
          24.005130767822266,
          13.41369342803955,
          26.755474090576172,
          5.496856212615967,
          23.19247055053711,
          4.043270111083984,
          5.101180553436279,
          20.398361206054688,
          6.7199578285217285,
          27.913738250732422,
          27.780643463134766,
          19.92881965637207,
          19.02963638305664,
          4.832730293273926,
          28.529037475585938,
          22.765869140625,
          23.6876163482666,
          4.982921600341797,
          19.785890579223633,
          19.1445369720459,
          21.9328556060791,
          25.919368743896484,
          21.957172393798828,
          21.771228790283203,
          26.83907127380371,
          18.394624710083008,
          21.75044059753418,
          15.89757251739502,
          27.312089920043945,
          18.135814666748047,
          13.241033554077148,
          19.37096405029297,
          23.094924926757812,
          16.601655960083008,
          12.908918380737305,
          25.077831268310547,
          25.46622657775879,
          26.713565826416016,
          22.701383590698242
         ],
         "yaxis": "y"
        },
        {
         "hovertemplate": "range=2.0<br>0=%{x}<br>1=%{y}<extra></extra>",
         "legendgroup": "2.0",
         "marker": {
          "color": "#ab63fa",
          "symbol": "circle"
         },
         "mode": "markers",
         "name": "2.0",
         "orientation": "v",
         "showlegend": true,
         "type": "scatter",
         "x": [
          6.716314792633057,
          19.1949405670166,
          18.2215518951416,
          2.2225449085235596,
          19.443477630615234,
          11.717948913574219,
          -3.01019024848938,
          -0.2599457800388336,
          12.248631477355957,
          5.343506813049316,
          15.188358306884766,
          9.372516632080078,
          -0.04824552312493324,
          -0.43128886818885803,
          18.05734634399414,
          17.250165939331055,
          4.878632545471191,
          12.800568580627441,
          3.882749557495117,
          15.431449890136719,
          -3.2900662422180176,
          -0.374427855014801,
          13.986997604370117,
          16.529197692871094,
          12.224875450134277,
          -12.498018264770508,
          -22.848222732543945,
          12.749874114990234,
          9.145146369934082,
          12.427693367004395,
          0.020889215171337128,
          15.318086624145508,
          2.7039308547973633,
          17.701005935668945,
          2.3417110443115234,
          12.467597007751465,
          -23.730573654174805,
          4.062687873840332,
          19.848905563354492,
          -20.60947036743164,
          15.144877433776855,
          -12.394619941711426,
          1.2621463537216187,
          19.967409133911133,
          17.243473052978516,
          17.453699111938477,
          8.836260795593262,
          3.0201497077941895,
          -3.5280535221099854,
          15.101441383361816,
          0.7605646252632141,
          -3.3075714111328125,
          3.360839366912842,
          17.655658721923828,
          16.668106079101562,
          5.631805896759033,
          -3.193441390991211,
          3.5760836601257324,
          -12.518972396850586,
          1.2166643142700195,
          -1.29709792137146,
          19.691543579101562,
          1.0060243606567383,
          14.369783401489258,
          -12.485593795776367,
          1.786190390586853,
          1.774596095085144,
          14.81092643737793,
          14.441790580749512,
          17.137174606323242,
          6.458040237426758,
          1.4584074020385742,
          12.325796127319336,
          17.019208908081055
         ],
         "xaxis": "x",
         "y": [
          4.060076713562012,
          -20.78392791748047,
          -22.489282608032227,
          -10.74236011505127,
          -21.249637603759766,
          -5.401038646697998,
          -5.752965927124023,
          -9.418928146362305,
          -16.16942596435547,
          -7.801538467407227,
          -19.40098762512207,
          -10.197093963623047,
          -10.44809627532959,
          -11.103805541992188,
          -22.396203994750977,
          -20.466970443725586,
          -11.15351390838623,
          -11.301103591918945,
          -11.198958396911621,
          -19.189128875732422,
          -5.627770900726318,
          -9.367053031921387,
          -18.29099464416504,
          -12.211077690124512,
          -20.981264114379883,
          -2.2530159950256348,
          16.646949768066406,
          -14.20006275177002,
          -10.059842109680176,
          -10.944968223571777,
          -8.626968383789062,
          -18.97527503967285,
          -13.351466178894043,
          -23.167320251464844,
          -4.228334903717041,
          -15.853428840637207,
          14.478545188903809,
          -11.21810531616211,
          -20.877212524414062,
          17.16484832763672,
          -17.723651885986328,
          -2.3482959270477295,
          -7.76804780960083,
          -21.11960792541504,
          -22.32007598876953,
          -24.383041381835938,
          -13.508374214172363,
          -13.4174165725708,
          -6.062300205230713,
          -13.047213554382324,
          -9.175246238708496,
          -6.163119316101074,
          -6.036317348480225,
          -24.41827392578125,
          -23.544736862182617,
          -7.904394149780273,
          -6.211314678192139,
          -13.914756774902344,
          -1.2805063724517822,
          -6.738805770874023,
          -10.350882530212402,
          -20.673980712890625,
          -10.511941909790039,
          -19.55913543701172,
          -1.0777740478515625,
          -1.6131640672683716,
          -9.611196517944336,
          -15.280635833740234,
          -18.39575958251953,
          -24.34390640258789,
          3.9501845836639404,
          -9.797038078308105,
          -12.783933639526367,
          -20.419937133789062
         ],
         "yaxis": "y"
        }
       ],
       "layout": {
        "legend": {
         "title": {
          "text": "range"
         },
         "tracegroupgap": 0
        },
        "margin": {
         "t": 60
        },
        "template": {
         "data": {
          "bar": [
           {
            "error_x": {
             "color": "#2a3f5f"
            },
            "error_y": {
             "color": "#2a3f5f"
            },
            "marker": {
             "line": {
              "color": "#E5ECF6",
              "width": 0.5
             }
            },
            "type": "bar"
           }
          ],
          "barpolar": [
           {
            "marker": {
             "line": {
              "color": "#E5ECF6",
              "width": 0.5
             }
            },
            "type": "barpolar"
           }
          ],
          "carpet": [
           {
            "aaxis": {
             "endlinecolor": "#2a3f5f",
             "gridcolor": "white",
             "linecolor": "white",
             "minorgridcolor": "white",
             "startlinecolor": "#2a3f5f"
            },
            "baxis": {
             "endlinecolor": "#2a3f5f",
             "gridcolor": "white",
             "linecolor": "white",
             "minorgridcolor": "white",
             "startlinecolor": "#2a3f5f"
            },
            "type": "carpet"
           }
          ],
          "choropleth": [
           {
            "colorbar": {
             "outlinewidth": 0,
             "ticks": ""
            },
            "type": "choropleth"
           }
          ],
          "contour": [
           {
            "colorbar": {
             "outlinewidth": 0,
             "ticks": ""
            },
            "colorscale": [
             [
              0,
              "#0d0887"
             ],
             [
              0.1111111111111111,
              "#46039f"
             ],
             [
              0.2222222222222222,
              "#7201a8"
             ],
             [
              0.3333333333333333,
              "#9c179e"
             ],
             [
              0.4444444444444444,
              "#bd3786"
             ],
             [
              0.5555555555555556,
              "#d8576b"
             ],
             [
              0.6666666666666666,
              "#ed7953"
             ],
             [
              0.7777777777777778,
              "#fb9f3a"
             ],
             [
              0.8888888888888888,
              "#fdca26"
             ],
             [
              1,
              "#f0f921"
             ]
            ],
            "type": "contour"
           }
          ],
          "contourcarpet": [
           {
            "colorbar": {
             "outlinewidth": 0,
             "ticks": ""
            },
            "type": "contourcarpet"
           }
          ],
          "heatmap": [
           {
            "colorbar": {
             "outlinewidth": 0,
             "ticks": ""
            },
            "colorscale": [
             [
              0,
              "#0d0887"
             ],
             [
              0.1111111111111111,
              "#46039f"
             ],
             [
              0.2222222222222222,
              "#7201a8"
             ],
             [
              0.3333333333333333,
              "#9c179e"
             ],
             [
              0.4444444444444444,
              "#bd3786"
             ],
             [
              0.5555555555555556,
              "#d8576b"
             ],
             [
              0.6666666666666666,
              "#ed7953"
             ],
             [
              0.7777777777777778,
              "#fb9f3a"
             ],
             [
              0.8888888888888888,
              "#fdca26"
             ],
             [
              1,
              "#f0f921"
             ]
            ],
            "type": "heatmap"
           }
          ],
          "heatmapgl": [
           {
            "colorbar": {
             "outlinewidth": 0,
             "ticks": ""
            },
            "colorscale": [
             [
              0,
              "#0d0887"
             ],
             [
              0.1111111111111111,
              "#46039f"
             ],
             [
              0.2222222222222222,
              "#7201a8"
             ],
             [
              0.3333333333333333,
              "#9c179e"
             ],
             [
              0.4444444444444444,
              "#bd3786"
             ],
             [
              0.5555555555555556,
              "#d8576b"
             ],
             [
              0.6666666666666666,
              "#ed7953"
             ],
             [
              0.7777777777777778,
              "#fb9f3a"
             ],
             [
              0.8888888888888888,
              "#fdca26"
             ],
             [
              1,
              "#f0f921"
             ]
            ],
            "type": "heatmapgl"
           }
          ],
          "histogram": [
           {
            "marker": {
             "colorbar": {
              "outlinewidth": 0,
              "ticks": ""
             }
            },
            "type": "histogram"
           }
          ],
          "histogram2d": [
           {
            "colorbar": {
             "outlinewidth": 0,
             "ticks": ""
            },
            "colorscale": [
             [
              0,
              "#0d0887"
             ],
             [
              0.1111111111111111,
              "#46039f"
             ],
             [
              0.2222222222222222,
              "#7201a8"
             ],
             [
              0.3333333333333333,
              "#9c179e"
             ],
             [
              0.4444444444444444,
              "#bd3786"
             ],
             [
              0.5555555555555556,
              "#d8576b"
             ],
             [
              0.6666666666666666,
              "#ed7953"
             ],
             [
              0.7777777777777778,
              "#fb9f3a"
             ],
             [
              0.8888888888888888,
              "#fdca26"
             ],
             [
              1,
              "#f0f921"
             ]
            ],
            "type": "histogram2d"
           }
          ],
          "histogram2dcontour": [
           {
            "colorbar": {
             "outlinewidth": 0,
             "ticks": ""
            },
            "colorscale": [
             [
              0,
              "#0d0887"
             ],
             [
              0.1111111111111111,
              "#46039f"
             ],
             [
              0.2222222222222222,
              "#7201a8"
             ],
             [
              0.3333333333333333,
              "#9c179e"
             ],
             [
              0.4444444444444444,
              "#bd3786"
             ],
             [
              0.5555555555555556,
              "#d8576b"
             ],
             [
              0.6666666666666666,
              "#ed7953"
             ],
             [
              0.7777777777777778,
              "#fb9f3a"
             ],
             [
              0.8888888888888888,
              "#fdca26"
             ],
             [
              1,
              "#f0f921"
             ]
            ],
            "type": "histogram2dcontour"
           }
          ],
          "mesh3d": [
           {
            "colorbar": {
             "outlinewidth": 0,
             "ticks": ""
            },
            "type": "mesh3d"
           }
          ],
          "parcoords": [
           {
            "line": {
             "colorbar": {
              "outlinewidth": 0,
              "ticks": ""
             }
            },
            "type": "parcoords"
           }
          ],
          "pie": [
           {
            "automargin": true,
            "type": "pie"
           }
          ],
          "scatter": [
           {
            "marker": {
             "colorbar": {
              "outlinewidth": 0,
              "ticks": ""
             }
            },
            "type": "scatter"
           }
          ],
          "scatter3d": [
           {
            "line": {
             "colorbar": {
              "outlinewidth": 0,
              "ticks": ""
             }
            },
            "marker": {
             "colorbar": {
              "outlinewidth": 0,
              "ticks": ""
             }
            },
            "type": "scatter3d"
           }
          ],
          "scattercarpet": [
           {
            "marker": {
             "colorbar": {
              "outlinewidth": 0,
              "ticks": ""
             }
            },
            "type": "scattercarpet"
           }
          ],
          "scattergeo": [
           {
            "marker": {
             "colorbar": {
              "outlinewidth": 0,
              "ticks": ""
             }
            },
            "type": "scattergeo"
           }
          ],
          "scattergl": [
           {
            "marker": {
             "colorbar": {
              "outlinewidth": 0,
              "ticks": ""
             }
            },
            "type": "scattergl"
           }
          ],
          "scattermapbox": [
           {
            "marker": {
             "colorbar": {
              "outlinewidth": 0,
              "ticks": ""
             }
            },
            "type": "scattermapbox"
           }
          ],
          "scatterpolar": [
           {
            "marker": {
             "colorbar": {
              "outlinewidth": 0,
              "ticks": ""
             }
            },
            "type": "scatterpolar"
           }
          ],
          "scatterpolargl": [
           {
            "marker": {
             "colorbar": {
              "outlinewidth": 0,
              "ticks": ""
             }
            },
            "type": "scatterpolargl"
           }
          ],
          "scatterternary": [
           {
            "marker": {
             "colorbar": {
              "outlinewidth": 0,
              "ticks": ""
             }
            },
            "type": "scatterternary"
           }
          ],
          "surface": [
           {
            "colorbar": {
             "outlinewidth": 0,
             "ticks": ""
            },
            "colorscale": [
             [
              0,
              "#0d0887"
             ],
             [
              0.1111111111111111,
              "#46039f"
             ],
             [
              0.2222222222222222,
              "#7201a8"
             ],
             [
              0.3333333333333333,
              "#9c179e"
             ],
             [
              0.4444444444444444,
              "#bd3786"
             ],
             [
              0.5555555555555556,
              "#d8576b"
             ],
             [
              0.6666666666666666,
              "#ed7953"
             ],
             [
              0.7777777777777778,
              "#fb9f3a"
             ],
             [
              0.8888888888888888,
              "#fdca26"
             ],
             [
              1,
              "#f0f921"
             ]
            ],
            "type": "surface"
           }
          ],
          "table": [
           {
            "cells": {
             "fill": {
              "color": "#EBF0F8"
             },
             "line": {
              "color": "white"
             }
            },
            "header": {
             "fill": {
              "color": "#C8D4E3"
             },
             "line": {
              "color": "white"
             }
            },
            "type": "table"
           }
          ]
         },
         "layout": {
          "annotationdefaults": {
           "arrowcolor": "#2a3f5f",
           "arrowhead": 0,
           "arrowwidth": 1
          },
          "coloraxis": {
           "colorbar": {
            "outlinewidth": 0,
            "ticks": ""
           }
          },
          "colorscale": {
           "diverging": [
            [
             0,
             "#8e0152"
            ],
            [
             0.1,
             "#c51b7d"
            ],
            [
             0.2,
             "#de77ae"
            ],
            [
             0.3,
             "#f1b6da"
            ],
            [
             0.4,
             "#fde0ef"
            ],
            [
             0.5,
             "#f7f7f7"
            ],
            [
             0.6,
             "#e6f5d0"
            ],
            [
             0.7,
             "#b8e186"
            ],
            [
             0.8,
             "#7fbc41"
            ],
            [
             0.9,
             "#4d9221"
            ],
            [
             1,
             "#276419"
            ]
           ],
           "sequential": [
            [
             0,
             "#0d0887"
            ],
            [
             0.1111111111111111,
             "#46039f"
            ],
            [
             0.2222222222222222,
             "#7201a8"
            ],
            [
             0.3333333333333333,
             "#9c179e"
            ],
            [
             0.4444444444444444,
             "#bd3786"
            ],
            [
             0.5555555555555556,
             "#d8576b"
            ],
            [
             0.6666666666666666,
             "#ed7953"
            ],
            [
             0.7777777777777778,
             "#fb9f3a"
            ],
            [
             0.8888888888888888,
             "#fdca26"
            ],
            [
             1,
             "#f0f921"
            ]
           ],
           "sequentialminus": [
            [
             0,
             "#0d0887"
            ],
            [
             0.1111111111111111,
             "#46039f"
            ],
            [
             0.2222222222222222,
             "#7201a8"
            ],
            [
             0.3333333333333333,
             "#9c179e"
            ],
            [
             0.4444444444444444,
             "#bd3786"
            ],
            [
             0.5555555555555556,
             "#d8576b"
            ],
            [
             0.6666666666666666,
             "#ed7953"
            ],
            [
             0.7777777777777778,
             "#fb9f3a"
            ],
            [
             0.8888888888888888,
             "#fdca26"
            ],
            [
             1,
             "#f0f921"
            ]
           ]
          },
          "colorway": [
           "#636efa",
           "#EF553B",
           "#00cc96",
           "#ab63fa",
           "#FFA15A",
           "#19d3f3",
           "#FF6692",
           "#B6E880",
           "#FF97FF",
           "#FECB52"
          ],
          "font": {
           "color": "#2a3f5f"
          },
          "geo": {
           "bgcolor": "white",
           "lakecolor": "white",
           "landcolor": "#E5ECF6",
           "showlakes": true,
           "showland": true,
           "subunitcolor": "white"
          },
          "hoverlabel": {
           "align": "left"
          },
          "hovermode": "closest",
          "mapbox": {
           "style": "light"
          },
          "paper_bgcolor": "white",
          "plot_bgcolor": "#E5ECF6",
          "polar": {
           "angularaxis": {
            "gridcolor": "white",
            "linecolor": "white",
            "ticks": ""
           },
           "bgcolor": "#E5ECF6",
           "radialaxis": {
            "gridcolor": "white",
            "linecolor": "white",
            "ticks": ""
           }
          },
          "scene": {
           "xaxis": {
            "backgroundcolor": "#E5ECF6",
            "gridcolor": "white",
            "gridwidth": 2,
            "linecolor": "white",
            "showbackground": true,
            "ticks": "",
            "zerolinecolor": "white"
           },
           "yaxis": {
            "backgroundcolor": "#E5ECF6",
            "gridcolor": "white",
            "gridwidth": 2,
            "linecolor": "white",
            "showbackground": true,
            "ticks": "",
            "zerolinecolor": "white"
           },
           "zaxis": {
            "backgroundcolor": "#E5ECF6",
            "gridcolor": "white",
            "gridwidth": 2,
            "linecolor": "white",
            "showbackground": true,
            "ticks": "",
            "zerolinecolor": "white"
           }
          },
          "shapedefaults": {
           "line": {
            "color": "#2a3f5f"
           }
          },
          "ternary": {
           "aaxis": {
            "gridcolor": "white",
            "linecolor": "white",
            "ticks": ""
           },
           "baxis": {
            "gridcolor": "white",
            "linecolor": "white",
            "ticks": ""
           },
           "bgcolor": "#E5ECF6",
           "caxis": {
            "gridcolor": "white",
            "linecolor": "white",
            "ticks": ""
           }
          },
          "title": {
           "x": 0.05
          },
          "xaxis": {
           "automargin": true,
           "gridcolor": "white",
           "linecolor": "white",
           "ticks": "",
           "title": {
            "standoff": 15
           },
           "zerolinecolor": "white",
           "zerolinewidth": 2
          },
          "yaxis": {
           "automargin": true,
           "gridcolor": "white",
           "linecolor": "white",
           "ticks": "",
           "title": {
            "standoff": 15
           },
           "zerolinecolor": "white",
           "zerolinewidth": 2
          }
         }
        },
        "xaxis": {
         "anchor": "y",
         "domain": [
          0,
          1
         ],
         "title": {
          "text": "0"
         }
        },
        "yaxis": {
         "anchor": "x",
         "domain": [
          0,
          1
         ],
         "title": {
          "text": "1"
         }
        }
       }
      },
      "text/html": [
       "<div>                            <div id=\"80d05800-10b1-46df-b112-c32be9f17416\" class=\"plotly-graph-div\" style=\"height:525px; width:100%;\"></div>            <script type=\"text/javascript\">                require([\"plotly\"], function(Plotly) {                    window.PLOTLYENV=window.PLOTLYENV || {};                                    if (document.getElementById(\"80d05800-10b1-46df-b112-c32be9f17416\")) {                    Plotly.newPlot(                        \"80d05800-10b1-46df-b112-c32be9f17416\",                        [{\"hovertemplate\": \"range=1.0<br>0=%{x}<br>1=%{y}<extra></extra>\", \"legendgroup\": \"1.0\", \"marker\": {\"color\": \"#636efa\", \"symbol\": \"circle\"}, \"mode\": \"markers\", \"name\": \"1.0\", \"orientation\": \"v\", \"showlegend\": true, \"type\": \"scatter\", \"x\": [10.396275520324707, 13.550130844116211, -25.38765525817871, 10.790179252624512, -4.608291149139404, -5.417821407318115, -29.014476776123047, 2.3146274089813232, -25.998687744140625, 0.15781183540821075, 16.569169998168945, 16.07956886291504, 2.581606864929199, 13.05844497680664, 7.51083517074585, 11.057236671447754, 6.322361946105957, 16.663286209106445, -25.6538028717041, 11.541778564453125, 11.560132026672363, 7.7147722244262695, 0.24437402188777924, 12.404848098754883, 14.146419525146484, -27.077056884765625, 10.69253921508789, 2.1850945949554443, 8.97463607788086, -23.721277236938477, 12.559866905212402, 16.693557739257812, -2.4894680976867676, 1.0618647336959839, 1.078489065170288, 6.0411272048950195, 9.471940994262695, 3.0062904357910156, -11.408271789550781, 12.111923217773438, 8.587800979614258, 15.734844207763672, 18.552261352539062, 10.581439018249512, 16.351242065429688, 3.2637219429016113, 14.082277297973633, -23.94851303100586, 9.338750839233398, 17.468883514404297, 11.9153413772583, 6.182703495025635, -27.374862670898438, 14.865474700927734, 11.883814811706543, -11.814017295837402, 8.744349479675293, 2.797037363052368, 7.072186470031738, 14.947160720825195, 16.121065139770508, 4.458587646484375, 12.542819023132324, 2.1505126953125, 10.666314125061035, 8.329729080200195, 12.234700202941895, 12.40938663482666, 5.467589378356934, 7.850292205810547, 0.8251755833625793, 16.794342041015625, 7.67168664932251, 2.9198622703552246, 5.268343448638916, 16.832868576049805, -25.414119720458984, -30.46687126159668, 13.060338020324707, 3.5353662967681885, 10.430680274963379, -4.381558895111084, 15.01594066619873, -23.36365509033203, -11.563082695007324, 18.131370544433594, 1.002122163772583, 9.37533187866211, 15.073419570922852, 12.627324104309082, 15.041032791137695, 1.7396880388259888, -25.056922912597656, 12.568206787109375, 7.865838050842285, 3.3611397743225098, 17.54473304748535, -25.502201080322266, -11.565868377685547, 9.010534286499023, 3.97784686088562, 4.331298828125, 4.842300891876221, -12.858728408813477, 3.0977909564971924, 12.896589279174805, 15.625015258789062, 5.871910095214844, 5.958616733551025, 14.82133960723877, -1.7312703132629395, 10.225403785705566, -25.703657150268555, 12.375024795532227, 4.8817853927612305, 6.596859455108643, 13.294134140014648, -2.920107841491699, 11.032526016235352, 9.094755172729492, -4.023474216461182, 3.2126128673553467, -28.427326202392578, 11.696863174438477, 11.85903263092041, -24.993297576904297, -2.3758368492126465, 1.8414292335510254, -12.439316749572754, 8.195704460144043, 2.869523048400879, -24.34419822692871, -28.726463317871094, -10.92325210571289, 4.587240219116211, 3.508758544921875, -12.159926414489746, 12.839953422546387, -24.83206558227539, -26.50490951538086, -2.765145778656006, -27.563072204589844, -10.845285415649414, 17.828393936157227, -24.639007568359375, -4.775339603424072, 4.735808849334717, 2.721226453781128, 3.064220666885376, -2.817293643951416, 14.24312686920166, -10.443719863891602, 12.819552421569824, -24.605653762817383, 8.63606071472168, 11.037091255187988, 15.545562744140625, 10.541763305664062, -11.448429107666016, 13.225055694580078, -26.589990615844727, 3.781381368637085, -33.288818359375, 8.28426742553711, 6.2832112312316895, 1.056153655052185, 7.82519006729126, 16.509017944335938, -21.670578002929688, 0.27794039249420166, 13.147252082824707, 10.09521198272705, -24.951000213623047, 17.162126541137695, 14.701361656188965, 15.65614128112793, 12.027785301208496, 5.721301555633545, 4.15178108215332, -25.06304931640625, 8.064250946044922, 16.616840362548828, -21.87984275817871, 8.4185152053833, 11.942354202270508, 17.699899673461914, 6.262817859649658, 11.39003849029541, -25.250398635864258, 15.767960548400879, -18.912094116210938, 6.168270587921143, 17.866291046142578, -25.051694869995117, 14.56777286529541, -2.183454990386963, 8.600762367248535, 16.895803451538086, 10.62083911895752, 9.789960861206055, 10.690522193908691, -26.973472595214844, 7.39829158782959, 3.4539172649383545, 4.646226406097412, -25.6746826171875, 8.889945983886719, 5.4093170166015625, 16.568288803100586, -32.23991012573242, 16.10839080810547, 7.797901630401611, 8.848502159118652, 3.048898458480835, -27.980546951293945, 5.09873628616333, 2.342106819152832, 2.8483664989471436, 16.60664939880371, 11.029261589050293, -11.843655586242676, 13.069695472717285, -24.679475784301758, -18.911293029785156, 9.20287036895752, 14.62142276763916, 16.009490966796875, -4.8419342041015625], \"xaxis\": \"x\", \"y\": [4.30935525894165, -5.155694007873535, 15.269399642944336, -0.1654682159423828, 6.36146354675293, 4.926120281219482, 25.564733505249023, -4.124080181121826, 15.213926315307617, 10.748374938964844, -21.634262084960938, -21.88587188720703, -7.980109214782715, -3.6843581199645996, -9.124672889709473, 3.2364115715026855, 0.6550114154815674, -18.47148323059082, 16.066333770751953, -3.771104335784912, -4.853458404541016, -5.1385979652404785, 13.440170288085938, -10.924215316772461, -5.520986080169678, 16.098085403442383, 3.7680957317352295, 11.791606903076172, 3.1130828857421875, 17.485107421875, -3.633714199066162, -19.047016143798828, 2.717468738555908, 9.499136924743652, 9.68777084350586, -12.871085166931152, 5.434418678283691, 13.296001434326172, 0.5344972610473633, -8.10067081451416, 0.5409238338470459, 0.5017956495285034, -10.563947677612305, -2.629621982574463, -20.215763092041016, 11.278702735900879, -5.462123870849609, 12.47541618347168, -9.608461380004883, -14.881387710571289, -7.13382625579834, -2.8102352619171143, 27.197250366210938, -13.111966133117676, -8.062829971313477, 0.12505902349948883, 4.775571823120117, -0.612642765045166, 0.9782863855361938, -22.909273147583008, -0.6560686826705933, 0.9123755693435669, -23.282615661621094, -6.755904197692871, 1.177347183227539, -5.842997074127197, -21.037796020507812, -7.954096794128418, -0.04969942197203636, -1.3244613409042358, 10.08430290222168, -11.115606307983398, 4.595677375793457, 11.370009422302246, 4.999077320098877, -11.894102096557617, 13.847195625305176, 27.972021102905273, -9.773736953735352, -5.978553771972656, -7.305941581726074, 4.959097385406494, -16.150245666503906, 25.16232681274414, -0.3759533166885376, -11.210222244262695, -8.798879623413086, 3.1883957386016846, -22.884239196777344, -4.897861957550049, -15.696178436279297, -6.183231353759766, 12.13616943359375, -23.355295181274414, -9.137534141540527, 12.062520027160645, -11.648889541625977, 16.264568328857422, -0.8528643846511841, -6.726847171783447, -0.15323182940483093, -1.148593544960022, -2.6062564849853516, -0.380204975605011, -5.142018795013428, -7.57216739654541, -15.04825210571289, -3.830486536026001, -13.153769493103027, -16.78553581237793, -4.847482681274414, 3.318405866622925, 17.696075439453125, -5.706942558288574, 0.5606503486633301, -0.3767290711402893, -22.05594253540039, 2.3126282691955566, -5.743804931640625, 5.430274486541748, 4.000328063964844, -1.9331709146499634, 17.089550018310547, -9.43765640258789, -2.341965675354004, 13.293270111083984, 2.0373120307922363, 12.220094680786133, -0.1768009066581726, -13.420140266418457, -2.326652765274048, 14.874860763549805, 18.10236358642578, 3.807908296585083, -5.115355968475342, -0.12194044888019562, 0.4524992108345032, -4.368837833404541, 16.749561309814453, 13.448297500610352, 2.1526098251342773, 24.488279342651367, 3.863185405731201, -14.394522666931152, 20.091379165649414, 6.432919025421143, -6.0365777015686035, -6.498592376708984, 12.009303092956543, 2.8978075981140137, -23.05794334411621, 4.2079572677612305, -13.94386100769043, 12.022448539733887, -6.297976016998291, -4.943504810333252, -9.29777717590332, 2.9369380474090576, 0.6456871628761292, -17.643535614013672, 17.22690200805664, -1.9966822862625122, 28.464750289916992, 4.9525885581970215, 5.8141584396362305, 9.792805671691895, -13.345203399658203, -22.847322463989258, 17.09390640258789, 10.626777648925781, -23.924625396728516, 2.402747392654419, 11.412166595458984, -14.306937217712402, -13.186783790588379, -21.59537696838379, -9.986770629882812, 1.0699976682662964, 1.1754282712936401, 14.969688415527344, 4.6012678146362305, -9.313037872314453, 16.19412612915039, 4.340793609619141, -2.071082353591919, -14.131561279296875, -9.818243026733398, -7.061108112335205, 11.65777587890625, -12.22433090209961, 9.714548110961914, 0.4791553020477295, -10.61577320098877, 18.978792190551758, -17.07613182067871, 2.662313461303711, -6.224279403686523, -21.51803970336914, -11.662206649780273, -9.886123657226562, -11.727238655090332, 16.591951370239258, 2.643131732940674, 11.598597526550293, -1.799262523651123, 12.051496505737305, 0.32076919078826904, 5.059514045715332, -15.418869972229004, 28.9381160736084, -0.49944666028022766, -1.8787215948104858, -1.9128775596618652, -6.560449123382568, 15.396833419799805, -3.2358238697052, 12.350126266479492, 12.314478874206543, -9.363834381103516, -6.187756538391113, -0.5486510992050171, -6.2244648933410645, 15.46696949005127, 9.743587493896484, -5.0968475341796875, -7.795375823974609, -15.78825569152832, 4.94230842590332], \"yaxis\": \"y\"}, {\"hovertemplate\": \"range=3.0<br>0=%{x}<br>1=%{y}<extra></extra>\", \"legendgroup\": \"3.0\", \"marker\": {\"color\": \"#EF553B\", \"symbol\": \"circle\"}, \"mode\": \"markers\", \"name\": \"3.0\", \"orientation\": \"v\", \"showlegend\": true, \"type\": \"scatter\", \"x\": [18.51036262512207, -21.08469581604004, -19.34657096862793, -2.834407329559326, 19.360088348388672, 19.429685592651367, -12.575628280639648, -1.4823298454284668, -2.720074415206909, 19.02072525024414, -4.017696380615234, -3.931253433227539, -1.3206257820129395, -2.1757616996765137, -23.164215087890625, -1.6431819200515747, -2.0446572303771973, 18.88524627685547, -19.0806941986084, -2.6503238677978516, -13.979202270507812, -2.6947813034057617, 18.559526443481445, -19.298917770385742, 0.7801885008811951], \"xaxis\": \"x\", \"y\": [-23.798521041870117, 16.346630096435547, 9.044193267822266, -7.242678642272949, -24.24712371826172, -24.378156661987305, -2.5811238288879395, -11.144892692565918, -0.002611215226352215, -23.407995223999023, -7.549646377563477, -7.316112518310547, -10.914098739624023, -9.270195007324219, 15.695098876953125, -10.661895751953125, -11.098538398742676, -24.495832443237305, 9.462785720825195, 0.8887922763824463, -1.3952760696411133, 0.19239287078380585, -26.70425796508789, 9.119600296020508, -11.524592399597168], \"yaxis\": \"y\"}, {\"hovertemplate\": \"range=0.0<br>0=%{x}<br>1=%{y}<extra></extra>\", \"legendgroup\": \"0.0\", \"marker\": {\"color\": \"#00cc96\", \"symbol\": \"circle\"}, \"mode\": \"markers\", \"name\": \"0.0\", \"orientation\": \"v\", \"showlegend\": true, \"type\": \"scatter\", \"x\": [-23.43003273010254, 1.5674537420272827, -26.492589950561523, -26.6202449798584, -27.939483642578125, -27.349151611328125, -27.510038375854492, 12.056501388549805, 11.169325828552246, -24.30200958251953, -31.46527671813965, -32.79220962524414, -32.33842468261719, -25.245128631591797, -32.32676696777344, -32.8941764831543, -26.097108840942383, -24.257762908935547, -31.84377098083496, 12.66424560546875, -30.044876098632812, 1.687529444694519, -11.050509452819824, -26.04283905029297, -4.6859354972839355, -30.79328155517578, -25.235464096069336, -31.40546417236328, -24.231882095336914, -30.442363739013672, -25.6462345123291, 12.952909469604492, -27.108779907226562, -25.69124984741211, 15.490286827087402, -24.86655044555664, -31.561471939086914, 6.2747063636779785, -26.010164260864258, 0.28446027636528015, -31.662429809570312, -5.6341423988342285, -23.874561309814453, 11.977729797363281, 11.138858795166016, -26.942602157592773, -4.673116683959961, -31.809871673583984, -31.386186599731445, -23.35580062866211, -23.114643096923828, -5.730604648590088, -31.745820999145508, -24.409324645996094, -25.762432098388672, 11.5895357131958, -26.746334075927734, -27.36822509765625, -25.745080947875977, -30.179168701171875, -23.275611877441406, -23.929475784301758, -32.671905517578125, -23.866069793701172, -27.755950927734375, -26.732067108154297, -30.803340911865234, -22.818368911743164, 2.0169267654418945, -23.616085052490234, -24.082103729248047, -25.750377655029297, 1.8866811990737915, -28.24773597717285, -27.37605857849121, -31.1883602142334, -23.258880615234375], \"xaxis\": \"x\", \"y\": [19.716703414916992, 14.323131561279297, 17.931760787963867, 26.735605239868164, 27.36551284790039, 18.096878051757812, 15.23995304107666, 3.804872512817383, 4.455685138702393, 17.551050186157227, 27.315744400024414, 28.344959259033203, 27.264123916625977, 17.925737380981445, 27.83704376220703, 27.508625030517578, 21.23978042602539, 20.736774444580078, 26.29444694519043, 4.722638130187988, 27.183639526367188, 12.411381721496582, 3.715094804763794, 17.23525619506836, 6.710185527801514, 28.51756477355957, 19.454133987426758, 29.44171142578125, 16.315229415893555, 26.62803077697754, 25.967987060546875, 5.093338489532471, 19.015527725219727, 25.64822006225586, 0.9381729364395142, 16.445192337036133, 28.74156951904297, 5.848974227905273, 24.005130767822266, 13.41369342803955, 26.755474090576172, 5.496856212615967, 23.19247055053711, 4.043270111083984, 5.101180553436279, 20.398361206054688, 6.7199578285217285, 27.913738250732422, 27.780643463134766, 19.92881965637207, 19.02963638305664, 4.832730293273926, 28.529037475585938, 22.765869140625, 23.6876163482666, 4.982921600341797, 19.785890579223633, 19.1445369720459, 21.9328556060791, 25.919368743896484, 21.957172393798828, 21.771228790283203, 26.83907127380371, 18.394624710083008, 21.75044059753418, 15.89757251739502, 27.312089920043945, 18.135814666748047, 13.241033554077148, 19.37096405029297, 23.094924926757812, 16.601655960083008, 12.908918380737305, 25.077831268310547, 25.46622657775879, 26.713565826416016, 22.701383590698242], \"yaxis\": \"y\"}, {\"hovertemplate\": \"range=2.0<br>0=%{x}<br>1=%{y}<extra></extra>\", \"legendgroup\": \"2.0\", \"marker\": {\"color\": \"#ab63fa\", \"symbol\": \"circle\"}, \"mode\": \"markers\", \"name\": \"2.0\", \"orientation\": \"v\", \"showlegend\": true, \"type\": \"scatter\", \"x\": [6.716314792633057, 19.1949405670166, 18.2215518951416, 2.2225449085235596, 19.443477630615234, 11.717948913574219, -3.01019024848938, -0.2599457800388336, 12.248631477355957, 5.343506813049316, 15.188358306884766, 9.372516632080078, -0.04824552312493324, -0.43128886818885803, 18.05734634399414, 17.250165939331055, 4.878632545471191, 12.800568580627441, 3.882749557495117, 15.431449890136719, -3.2900662422180176, -0.374427855014801, 13.986997604370117, 16.529197692871094, 12.224875450134277, -12.498018264770508, -22.848222732543945, 12.749874114990234, 9.145146369934082, 12.427693367004395, 0.020889215171337128, 15.318086624145508, 2.7039308547973633, 17.701005935668945, 2.3417110443115234, 12.467597007751465, -23.730573654174805, 4.062687873840332, 19.848905563354492, -20.60947036743164, 15.144877433776855, -12.394619941711426, 1.2621463537216187, 19.967409133911133, 17.243473052978516, 17.453699111938477, 8.836260795593262, 3.0201497077941895, -3.5280535221099854, 15.101441383361816, 0.7605646252632141, -3.3075714111328125, 3.360839366912842, 17.655658721923828, 16.668106079101562, 5.631805896759033, -3.193441390991211, 3.5760836601257324, -12.518972396850586, 1.2166643142700195, -1.29709792137146, 19.691543579101562, 1.0060243606567383, 14.369783401489258, -12.485593795776367, 1.786190390586853, 1.774596095085144, 14.81092643737793, 14.441790580749512, 17.137174606323242, 6.458040237426758, 1.4584074020385742, 12.325796127319336, 17.019208908081055], \"xaxis\": \"x\", \"y\": [4.060076713562012, -20.78392791748047, -22.489282608032227, -10.74236011505127, -21.249637603759766, -5.401038646697998, -5.752965927124023, -9.418928146362305, -16.16942596435547, -7.801538467407227, -19.40098762512207, -10.197093963623047, -10.44809627532959, -11.103805541992188, -22.396203994750977, -20.466970443725586, -11.15351390838623, -11.301103591918945, -11.198958396911621, -19.189128875732422, -5.627770900726318, -9.367053031921387, -18.29099464416504, -12.211077690124512, -20.981264114379883, -2.2530159950256348, 16.646949768066406, -14.20006275177002, -10.059842109680176, -10.944968223571777, -8.626968383789062, -18.97527503967285, -13.351466178894043, -23.167320251464844, -4.228334903717041, -15.853428840637207, 14.478545188903809, -11.21810531616211, -20.877212524414062, 17.16484832763672, -17.723651885986328, -2.3482959270477295, -7.76804780960083, -21.11960792541504, -22.32007598876953, -24.383041381835938, -13.508374214172363, -13.4174165725708, -6.062300205230713, -13.047213554382324, -9.175246238708496, -6.163119316101074, -6.036317348480225, -24.41827392578125, -23.544736862182617, -7.904394149780273, -6.211314678192139, -13.914756774902344, -1.2805063724517822, -6.738805770874023, -10.350882530212402, -20.673980712890625, -10.511941909790039, -19.55913543701172, -1.0777740478515625, -1.6131640672683716, -9.611196517944336, -15.280635833740234, -18.39575958251953, -24.34390640258789, 3.9501845836639404, -9.797038078308105, -12.783933639526367, -20.419937133789062], \"yaxis\": \"y\"}],                        {\"legend\": {\"title\": {\"text\": \"range\"}, \"tracegroupgap\": 0}, \"margin\": {\"t\": 60}, \"template\": {\"data\": {\"bar\": [{\"error_x\": {\"color\": \"#2a3f5f\"}, \"error_y\": {\"color\": \"#2a3f5f\"}, \"marker\": {\"line\": {\"color\": \"#E5ECF6\", \"width\": 0.5}}, \"type\": \"bar\"}], \"barpolar\": [{\"marker\": {\"line\": {\"color\": \"#E5ECF6\", \"width\": 0.5}}, \"type\": \"barpolar\"}], \"carpet\": [{\"aaxis\": {\"endlinecolor\": \"#2a3f5f\", \"gridcolor\": \"white\", \"linecolor\": \"white\", \"minorgridcolor\": \"white\", \"startlinecolor\": \"#2a3f5f\"}, \"baxis\": {\"endlinecolor\": \"#2a3f5f\", \"gridcolor\": \"white\", \"linecolor\": \"white\", \"minorgridcolor\": \"white\", \"startlinecolor\": \"#2a3f5f\"}, \"type\": \"carpet\"}], \"choropleth\": [{\"colorbar\": {\"outlinewidth\": 0, \"ticks\": \"\"}, \"type\": \"choropleth\"}], \"contour\": [{\"colorbar\": {\"outlinewidth\": 0, \"ticks\": \"\"}, \"colorscale\": [[0.0, \"#0d0887\"], [0.1111111111111111, \"#46039f\"], [0.2222222222222222, \"#7201a8\"], [0.3333333333333333, \"#9c179e\"], [0.4444444444444444, \"#bd3786\"], [0.5555555555555556, \"#d8576b\"], [0.6666666666666666, \"#ed7953\"], [0.7777777777777778, \"#fb9f3a\"], [0.8888888888888888, \"#fdca26\"], [1.0, \"#f0f921\"]], \"type\": \"contour\"}], \"contourcarpet\": [{\"colorbar\": {\"outlinewidth\": 0, \"ticks\": \"\"}, \"type\": \"contourcarpet\"}], \"heatmap\": [{\"colorbar\": {\"outlinewidth\": 0, \"ticks\": \"\"}, \"colorscale\": [[0.0, \"#0d0887\"], [0.1111111111111111, \"#46039f\"], [0.2222222222222222, \"#7201a8\"], [0.3333333333333333, \"#9c179e\"], [0.4444444444444444, \"#bd3786\"], [0.5555555555555556, \"#d8576b\"], [0.6666666666666666, \"#ed7953\"], [0.7777777777777778, \"#fb9f3a\"], [0.8888888888888888, \"#fdca26\"], [1.0, \"#f0f921\"]], \"type\": \"heatmap\"}], \"heatmapgl\": [{\"colorbar\": {\"outlinewidth\": 0, \"ticks\": \"\"}, \"colorscale\": [[0.0, \"#0d0887\"], [0.1111111111111111, \"#46039f\"], [0.2222222222222222, \"#7201a8\"], [0.3333333333333333, \"#9c179e\"], [0.4444444444444444, \"#bd3786\"], [0.5555555555555556, \"#d8576b\"], [0.6666666666666666, \"#ed7953\"], [0.7777777777777778, \"#fb9f3a\"], [0.8888888888888888, \"#fdca26\"], [1.0, \"#f0f921\"]], \"type\": \"heatmapgl\"}], \"histogram\": [{\"marker\": {\"colorbar\": {\"outlinewidth\": 0, \"ticks\": \"\"}}, \"type\": \"histogram\"}], \"histogram2d\": [{\"colorbar\": {\"outlinewidth\": 0, \"ticks\": \"\"}, \"colorscale\": [[0.0, \"#0d0887\"], [0.1111111111111111, \"#46039f\"], [0.2222222222222222, \"#7201a8\"], [0.3333333333333333, \"#9c179e\"], [0.4444444444444444, \"#bd3786\"], [0.5555555555555556, \"#d8576b\"], [0.6666666666666666, \"#ed7953\"], [0.7777777777777778, \"#fb9f3a\"], [0.8888888888888888, \"#fdca26\"], [1.0, \"#f0f921\"]], \"type\": \"histogram2d\"}], \"histogram2dcontour\": [{\"colorbar\": {\"outlinewidth\": 0, \"ticks\": \"\"}, \"colorscale\": [[0.0, \"#0d0887\"], [0.1111111111111111, \"#46039f\"], [0.2222222222222222, \"#7201a8\"], [0.3333333333333333, \"#9c179e\"], [0.4444444444444444, \"#bd3786\"], [0.5555555555555556, \"#d8576b\"], [0.6666666666666666, \"#ed7953\"], [0.7777777777777778, \"#fb9f3a\"], [0.8888888888888888, \"#fdca26\"], [1.0, \"#f0f921\"]], \"type\": \"histogram2dcontour\"}], \"mesh3d\": [{\"colorbar\": {\"outlinewidth\": 0, \"ticks\": \"\"}, \"type\": \"mesh3d\"}], \"parcoords\": [{\"line\": {\"colorbar\": {\"outlinewidth\": 0, \"ticks\": \"\"}}, \"type\": \"parcoords\"}], \"pie\": [{\"automargin\": true, \"type\": \"pie\"}], \"scatter\": [{\"marker\": {\"colorbar\": {\"outlinewidth\": 0, \"ticks\": \"\"}}, \"type\": \"scatter\"}], \"scatter3d\": [{\"line\": {\"colorbar\": {\"outlinewidth\": 0, \"ticks\": \"\"}}, \"marker\": {\"colorbar\": {\"outlinewidth\": 0, \"ticks\": \"\"}}, \"type\": \"scatter3d\"}], \"scattercarpet\": [{\"marker\": {\"colorbar\": {\"outlinewidth\": 0, \"ticks\": \"\"}}, \"type\": \"scattercarpet\"}], \"scattergeo\": [{\"marker\": {\"colorbar\": {\"outlinewidth\": 0, \"ticks\": \"\"}}, \"type\": \"scattergeo\"}], \"scattergl\": [{\"marker\": {\"colorbar\": {\"outlinewidth\": 0, \"ticks\": \"\"}}, \"type\": \"scattergl\"}], \"scattermapbox\": [{\"marker\": {\"colorbar\": {\"outlinewidth\": 0, \"ticks\": \"\"}}, \"type\": \"scattermapbox\"}], \"scatterpolar\": [{\"marker\": {\"colorbar\": {\"outlinewidth\": 0, \"ticks\": \"\"}}, \"type\": \"scatterpolar\"}], \"scatterpolargl\": [{\"marker\": {\"colorbar\": {\"outlinewidth\": 0, \"ticks\": \"\"}}, \"type\": \"scatterpolargl\"}], \"scatterternary\": [{\"marker\": {\"colorbar\": {\"outlinewidth\": 0, \"ticks\": \"\"}}, \"type\": \"scatterternary\"}], \"surface\": [{\"colorbar\": {\"outlinewidth\": 0, \"ticks\": \"\"}, \"colorscale\": [[0.0, \"#0d0887\"], [0.1111111111111111, \"#46039f\"], [0.2222222222222222, \"#7201a8\"], [0.3333333333333333, \"#9c179e\"], [0.4444444444444444, \"#bd3786\"], [0.5555555555555556, \"#d8576b\"], [0.6666666666666666, \"#ed7953\"], [0.7777777777777778, \"#fb9f3a\"], [0.8888888888888888, \"#fdca26\"], [1.0, \"#f0f921\"]], \"type\": \"surface\"}], \"table\": [{\"cells\": {\"fill\": {\"color\": \"#EBF0F8\"}, \"line\": {\"color\": \"white\"}}, \"header\": {\"fill\": {\"color\": \"#C8D4E3\"}, \"line\": {\"color\": \"white\"}}, \"type\": \"table\"}]}, \"layout\": {\"annotationdefaults\": {\"arrowcolor\": \"#2a3f5f\", \"arrowhead\": 0, \"arrowwidth\": 1}, \"coloraxis\": {\"colorbar\": {\"outlinewidth\": 0, \"ticks\": \"\"}}, \"colorscale\": {\"diverging\": [[0, \"#8e0152\"], [0.1, \"#c51b7d\"], [0.2, \"#de77ae\"], [0.3, \"#f1b6da\"], [0.4, \"#fde0ef\"], [0.5, \"#f7f7f7\"], [0.6, \"#e6f5d0\"], [0.7, \"#b8e186\"], [0.8, \"#7fbc41\"], [0.9, \"#4d9221\"], [1, \"#276419\"]], \"sequential\": [[0.0, \"#0d0887\"], [0.1111111111111111, \"#46039f\"], [0.2222222222222222, \"#7201a8\"], [0.3333333333333333, \"#9c179e\"], [0.4444444444444444, \"#bd3786\"], [0.5555555555555556, \"#d8576b\"], [0.6666666666666666, \"#ed7953\"], [0.7777777777777778, \"#fb9f3a\"], [0.8888888888888888, \"#fdca26\"], [1.0, \"#f0f921\"]], \"sequentialminus\": [[0.0, \"#0d0887\"], [0.1111111111111111, \"#46039f\"], [0.2222222222222222, \"#7201a8\"], [0.3333333333333333, \"#9c179e\"], [0.4444444444444444, \"#bd3786\"], [0.5555555555555556, \"#d8576b\"], [0.6666666666666666, \"#ed7953\"], [0.7777777777777778, \"#fb9f3a\"], [0.8888888888888888, \"#fdca26\"], [1.0, \"#f0f921\"]]}, \"colorway\": [\"#636efa\", \"#EF553B\", \"#00cc96\", \"#ab63fa\", \"#FFA15A\", \"#19d3f3\", \"#FF6692\", \"#B6E880\", \"#FF97FF\", \"#FECB52\"], \"font\": {\"color\": \"#2a3f5f\"}, \"geo\": {\"bgcolor\": \"white\", \"lakecolor\": \"white\", \"landcolor\": \"#E5ECF6\", \"showlakes\": true, \"showland\": true, \"subunitcolor\": \"white\"}, \"hoverlabel\": {\"align\": \"left\"}, \"hovermode\": \"closest\", \"mapbox\": {\"style\": \"light\"}, \"paper_bgcolor\": \"white\", \"plot_bgcolor\": \"#E5ECF6\", \"polar\": {\"angularaxis\": {\"gridcolor\": \"white\", \"linecolor\": \"white\", \"ticks\": \"\"}, \"bgcolor\": \"#E5ECF6\", \"radialaxis\": {\"gridcolor\": \"white\", \"linecolor\": \"white\", \"ticks\": \"\"}}, \"scene\": {\"xaxis\": {\"backgroundcolor\": \"#E5ECF6\", \"gridcolor\": \"white\", \"gridwidth\": 2, \"linecolor\": \"white\", \"showbackground\": true, \"ticks\": \"\", \"zerolinecolor\": \"white\"}, \"yaxis\": {\"backgroundcolor\": \"#E5ECF6\", \"gridcolor\": \"white\", \"gridwidth\": 2, \"linecolor\": \"white\", \"showbackground\": true, \"ticks\": \"\", \"zerolinecolor\": \"white\"}, \"zaxis\": {\"backgroundcolor\": \"#E5ECF6\", \"gridcolor\": \"white\", \"gridwidth\": 2, \"linecolor\": \"white\", \"showbackground\": true, \"ticks\": \"\", \"zerolinecolor\": \"white\"}}, \"shapedefaults\": {\"line\": {\"color\": \"#2a3f5f\"}}, \"ternary\": {\"aaxis\": {\"gridcolor\": \"white\", \"linecolor\": \"white\", \"ticks\": \"\"}, \"baxis\": {\"gridcolor\": \"white\", \"linecolor\": \"white\", \"ticks\": \"\"}, \"bgcolor\": \"#E5ECF6\", \"caxis\": {\"gridcolor\": \"white\", \"linecolor\": \"white\", \"ticks\": \"\"}}, \"title\": {\"x\": 0.05}, \"xaxis\": {\"automargin\": true, \"gridcolor\": \"white\", \"linecolor\": \"white\", \"ticks\": \"\", \"title\": {\"standoff\": 15}, \"zerolinecolor\": \"white\", \"zerolinewidth\": 2}, \"yaxis\": {\"automargin\": true, \"gridcolor\": \"white\", \"linecolor\": \"white\", \"ticks\": \"\", \"title\": {\"standoff\": 15}, \"zerolinecolor\": \"white\", \"zerolinewidth\": 2}}}, \"xaxis\": {\"anchor\": \"y\", \"domain\": [0.0, 1.0], \"title\": {\"text\": \"0\"}}, \"yaxis\": {\"anchor\": \"x\", \"domain\": [0.0, 1.0], \"title\": {\"text\": \"1\"}}},                        {\"responsive\": true}                    ).then(function(){\n",
       "                            \n",
       "var gd = document.getElementById('80d05800-10b1-46df-b112-c32be9f17416');\n",
       "var x = new MutationObserver(function (mutations, observer) {{\n",
       "        var display = window.getComputedStyle(gd).display;\n",
       "        if (!display || display === 'none') {{\n",
       "            console.log([gd, 'removed!']);\n",
       "            Plotly.purge(gd);\n",
       "            observer.disconnect();\n",
       "        }}\n",
       "}});\n",
       "\n",
       "// Listen for the removal of the full notebook cells\n",
       "var notebookContainer = gd.closest('#notebook-container');\n",
       "if (notebookContainer) {{\n",
       "    x.observe(notebookContainer, {childList: true});\n",
       "}}\n",
       "\n",
       "// Listen for the clearing of the current output cell\n",
       "var outputEl = gd.closest('.output');\n",
       "if (outputEl) {{\n",
       "    x.observe(outputEl, {childList: true});\n",
       "}}\n",
       "\n",
       "                        })                };                });            </script>        </div>"
      ]
     },
     "metadata": {},
     "output_type": "display_data"
    }
   ],
   "source": [
    "tsne_2d = TSNE(n_components=2, random_state=0)\n",
    "projections_2d = tsne_2d.fit_transform(x_train)\n",
    "fig_2d = px.scatter(projections_2d, x=0, y=1,\n",
    "                   color=labels_train.astype(str),\n",
    "                    labels={'color': 'range'})\n",
    "fig_2d.show()"
   ]
  },
  {
   "cell_type": "markdown",
   "metadata": {},
   "source": [
    "The first price range below 15 forms a pretty clear cluster on the upper left.\n",
    "\n",
    "The second one from 15 to 25 form 2 clusters, one of which kind of blends with the first group and the second one is at the lower right.\n",
    "\n",
    "The third one from 25 to 40 forms a small cluster at the lower right but still distinguishable from the second one.\n",
    "\n",
    "The last one above 40 is looks kind of random.\n",
    "\n",
    "Anyway, this is just for me to test t-SNE. It has nothing to do with the network and probably does not help me get any useful information out it. But it is fun though."
   ]
  },
  {
   "cell_type": "markdown",
   "metadata": {},
   "source": [
    "Now, to the real deal.\n",
    "\n",
    "First we have to normalize the data so that it is centered around 0 with a standard deviation of 1. Each feature (collumn) is subtracted by the mean and divide by the standard deviation."
   ]
  },
  {
   "cell_type": "code",
   "execution_count": 10,
   "metadata": {},
   "outputs": [],
   "source": [
    "mean = x_train.mean(axis=0)\n",
    "x_train -= mean\n",
    "std = x_train.std(axis=0)\n",
    "x_train /=std\n",
    "\n",
    "x_test -= mean\n",
    "x_test /= std"
   ]
  },
  {
   "cell_type": "code",
   "execution_count": 11,
   "metadata": {},
   "outputs": [],
   "source": [
    "from keras import models, layers\n",
    "\n",
    "# The model is reused so a function is defined\n",
    "def build_network():\n",
    "\n",
    "    network = models.Sequential()\n",
    "    network.add(layers.Dense(64, activation='relu',\n",
    "                             input_shape=(x_train.shape[1], )))\n",
    "    network.add(layers.Dense(64, activation='relu'))\n",
    "    network.add(layers.Dense(1))\n",
    "    # the last layer predicts the price, no need for activation\n",
    "\n",
    "    network.compile(optimizer='rmsprop', loss='mse', metrics=['mae'])\n",
    "    # loss function here is mean squared error\n",
    "    # widely used for regression problems\n",
    "    \n",
    "    # metrics is mean absolute error\n",
    "    # the difference between the prediction and the target\n",
    "\n",
    "    return network"
   ]
  },
  {
   "cell_type": "markdown",
   "metadata": {},
   "source": [
    "New validating approach: K-fold cross validation\n",
    "\n",
    "In the previous examples where keras' default validation_split is used, the validation scores might change a lot depending on which data\n",
    "points get chosen for validation and which for training. This would prevent you from reliably evaluating your model.\n",
    "\n",
    "K-fold cross validation is when the data is partitioned into k parts, each part would be used for validation once while the model is trained with the rest. The average of all validation scores obtained is the result."
   ]
  },
  {
   "cell_type": "code",
   "execution_count": 12,
   "metadata": {},
   "outputs": [],
   "source": [
    "from sklearn.model_selection import KFold\n",
    "kfold = KFold(n_splits=10, shuffle=True, random_state=0)"
   ]
  },
  {
   "cell_type": "code",
   "execution_count": 77,
   "metadata": {
    "scrolled": false
   },
   "outputs": [],
   "source": [
    "num_epochs = 300\n",
    "all_mae_histories = []\n",
    "\n",
    "for train, test in kfold.split(x_train, y_train):\n",
    "    network = build_network()\n",
    "    history = network.fit(x_train[train], y_train[train], epochs=num_epochs,\n",
    "                   batch_size=16,\n",
    "                   validation_data=(x_train[test], y_train[test]),\n",
    "                    verbose=0)\n",
    "    mae_history = history.history['val_mae']\n",
    "    all_mae_histories.append(mae_history)"
   ]
  },
  {
   "cell_type": "markdown",
   "metadata": {},
   "source": [
    "Now we plot the mean absolute error to see how it varies. We can see that the first 20 points are just plummeting while the rest seems to lie in the same range. So we omit the first 20 points to get a better grasp of how the MAE changes."
   ]
  },
  {
   "cell_type": "code",
   "execution_count": 82,
   "metadata": {},
   "outputs": [
    {
     "data": {
      "image/png": "[encoded data removed]",
      "text/plain": [
       "<Figure size 432x288 with 1 Axes>"
      ]
     },
     "metadata": {
      "needs_background": "light"
     },
     "output_type": "display_data"
    }
   ],
   "source": [
    "avg_mae_history = [np.mean([x[i] for x in all_mae_histories]) for i in range(num_epochs)]\n",
    "\n",
    "\n",
    "# avg_mae_history = avg_mae_history[20:]\n",
    "\n",
    "import matplotlib.pyplot as plt\n",
    "plt.plot(range(1, len(avg_mae_history) + 1), avg_mae_history)\n",
    "plt.xlabel('Epochs')\n",
    "plt.ylabel('Validation MAE')\n",
    "plt.show()"
   ]
  },
  {
   "cell_type": "markdown",
   "metadata": {},
   "source": [
    "The graph's high variahance makes it hard to detect the desired point. Therefore we smooth it out by passing it through a lowpass filter. Now it is obvious that after the 150th epoch, the MAE does not improve much. Therefore, we stop trainig after 150 epochs."
   ]
  },
  {
   "cell_type": "code",
   "execution_count": 83,
   "metadata": {},
   "outputs": [
    {
     "data": {
      "image/png": "[encoded data removed]",
      "text/plain": [
       "<Figure size 432x288 with 1 Axes>"
      ]
     },
     "metadata": {
      "needs_background": "light"
     },
     "output_type": "display_data"
    }
   ],
   "source": [
    "from scipy.fft import fft, ifft, fftshift\n",
    "from scipy import signal\n",
    "\n",
    "sos = signal.cheby1(14, 1, 0.1, btype='lowpass', output='sos')\n",
    "filtered = signal.sosfilt(sos, avg_mae_history)\n",
    "plt.plot(filtered)\n",
    "plt.show()"
   ]
  },
  {
   "cell_type": "code",
   "execution_count": 52,
   "metadata": {},
   "outputs": [
    {
     "name": "stdout",
     "output_type": "stream",
     "text": [
      "Epoch 1/150\n",
      "26/26 [==============================] - 0s 1ms/step - loss: 517.1506 - mae: 20.6609\n",
      "Epoch 2/150\n",
      "26/26 [==============================] - 0s 1ms/step - loss: 362.1577 - mae: 16.6582\n",
      "Epoch 3/150\n",
      "26/26 [==============================] - 0s 1ms/step - loss: 193.9009 - mae: 11.4136\n",
      "Epoch 4/150\n",
      "26/26 [==============================] - 0s 2ms/step - loss: 83.6624 - mae: 6.8922\n",
      "Epoch 5/150\n",
      "26/26 [==============================] - 0s 1ms/step - loss: 43.0515 - mae: 4.8127\n",
      "Epoch 6/150\n",
      "26/26 [==============================] - 0s 1ms/step - loss: 29.3427 - mae: 3.8699\n",
      "Epoch 7/150\n",
      "26/26 [==============================] - 0s 1ms/step - loss: 23.0669 - mae: 3.3571\n",
      "Epoch 8/150\n",
      "26/26 [==============================] - 0s 1ms/step - loss: 19.6982 - mae: 3.0722\n",
      "Epoch 9/150\n",
      "26/26 [==============================] - 0s 1ms/step - loss: 17.6954 - mae: 2.8999\n",
      "Epoch 10/150\n",
      "26/26 [==============================] - 0s 1ms/step - loss: 16.2878 - mae: 2.7992\n",
      "Epoch 11/150\n",
      "26/26 [==============================] - 0s 2ms/step - loss: 15.1251 - mae: 2.7111\n",
      "Epoch 12/150\n",
      "26/26 [==============================] - 0s 2ms/step - loss: 14.1195 - mae: 2.5758\n",
      "Epoch 13/150\n",
      "26/26 [==============================] - 0s 2ms/step - loss: 13.5065 - mae: 2.5731\n",
      "Epoch 14/150\n",
      "26/26 [==============================] - 0s 2ms/step - loss: 12.7073 - mae: 2.4738\n",
      "Epoch 15/150\n",
      "26/26 [==============================] - 0s 1ms/step - loss: 12.0549 - mae: 2.4574\n",
      "Epoch 16/150\n",
      "26/26 [==============================] - 0s 1ms/step - loss: 11.9015 - mae: 2.3789\n",
      "Epoch 17/150\n",
      "26/26 [==============================] - 0s 2ms/step - loss: 11.6739 - mae: 2.3765\n",
      "Epoch 18/150\n",
      "26/26 [==============================] - 0s 1ms/step - loss: 10.9996 - mae: 2.3033\n",
      "Epoch 19/150\n",
      "26/26 [==============================] - 0s 1ms/step - loss: 10.7067 - mae: 2.2998\n",
      "Epoch 20/150\n",
      "26/26 [==============================] - 0s 1ms/step - loss: 10.5803 - mae: 2.3137\n",
      "Epoch 21/150\n",
      "26/26 [==============================] - 0s 1ms/step - loss: 10.2621 - mae: 2.2150\n",
      "Epoch 22/150\n",
      "26/26 [==============================] - 0s 2ms/step - loss: 10.1143 - mae: 2.2335\n",
      "Epoch 23/150\n",
      "26/26 [==============================] - 0s 2ms/step - loss: 10.0047 - mae: 2.1775\n",
      "Epoch 24/150\n",
      "26/26 [==============================] - 0s 1ms/step - loss: 9.6259 - mae: 2.1887\n",
      "Epoch 25/150\n",
      "26/26 [==============================] - 0s 2ms/step - loss: 9.6109 - mae: 2.1723\n",
      "Epoch 26/150\n",
      "26/26 [==============================] - 0s 1ms/step - loss: 9.2607 - mae: 2.1437\n",
      "Epoch 27/150\n",
      "26/26 [==============================] - 0s 2ms/step - loss: 9.3143 - mae: 2.1570\n",
      "Epoch 28/150\n",
      "26/26 [==============================] - 0s 2ms/step - loss: 9.0636 - mae: 2.1221\n",
      "Epoch 29/150\n",
      "26/26 [==============================] - 0s 2ms/step - loss: 8.7655 - mae: 2.0523\n",
      "Epoch 30/150\n",
      "26/26 [==============================] - 0s 2ms/step - loss: 8.8259 - mae: 2.0816\n",
      "Epoch 31/150\n",
      "26/26 [==============================] - 0s 2ms/step - loss: 8.9169 - mae: 2.0686\n",
      "Epoch 32/150\n",
      "26/26 [==============================] - 0s 1ms/step - loss: 8.7257 - mae: 2.0777\n",
      "Epoch 33/150\n",
      "26/26 [==============================] - 0s 1ms/step - loss: 8.6194 - mae: 2.0665\n",
      "Epoch 34/150\n",
      "26/26 [==============================] - 0s 2ms/step - loss: 8.3244 - mae: 2.0493\n",
      "Epoch 35/150\n",
      "26/26 [==============================] - 0s 2ms/step - loss: 8.0624 - mae: 2.0139\n",
      "Epoch 36/150\n",
      "26/26 [==============================] - 0s 2ms/step - loss: 8.3415 - mae: 2.0136\n",
      "Epoch 37/150\n",
      "26/26 [==============================] - 0s 2ms/step - loss: 8.0368 - mae: 2.0282\n",
      "Epoch 38/150\n",
      "26/26 [==============================] - 0s 1ms/step - loss: 8.1587 - mae: 1.9886\n",
      "Epoch 39/150\n",
      "26/26 [==============================] - 0s 2ms/step - loss: 7.9580 - mae: 1.9875\n",
      "Epoch 40/150\n",
      "26/26 [==============================] - 0s 2ms/step - loss: 7.8961 - mae: 1.9685\n",
      "Epoch 41/150\n",
      "26/26 [==============================] - 0s 2ms/step - loss: 7.7926 - mae: 1.9628\n",
      "Epoch 42/150\n",
      "26/26 [==============================] - 0s 1ms/step - loss: 7.5102 - mae: 1.9447\n",
      "Epoch 43/150\n",
      "26/26 [==============================] - 0s 1ms/step - loss: 7.6484 - mae: 1.9697\n",
      "Epoch 44/150\n",
      "26/26 [==============================] - 0s 2ms/step - loss: 7.4257 - mae: 1.9386\n",
      "Epoch 45/150\n",
      "26/26 [==============================] - 0s 1ms/step - loss: 7.2379 - mae: 1.8957\n",
      "Epoch 46/150\n",
      "26/26 [==============================] - 0s 1ms/step - loss: 7.3331 - mae: 1.9218\n",
      "Epoch 47/150\n",
      "26/26 [==============================] - 0s 1ms/step - loss: 7.0201 - mae: 1.8807\n",
      "Epoch 48/150\n",
      "26/26 [==============================] - 0s 1ms/step - loss: 7.1118 - mae: 1.8832\n",
      "Epoch 49/150\n",
      "26/26 [==============================] - 0s 1ms/step - loss: 7.1122 - mae: 1.8775\n",
      "Epoch 50/150\n",
      "26/26 [==============================] - 0s 1ms/step - loss: 6.9115 - mae: 1.8964\n",
      "Epoch 51/150\n",
      "26/26 [==============================] - 0s 1ms/step - loss: 7.0115 - mae: 1.8662\n",
      "Epoch 52/150\n",
      "26/26 [==============================] - 0s 1ms/step - loss: 7.0410 - mae: 1.8923\n",
      "Epoch 53/150\n",
      "26/26 [==============================] - 0s 2ms/step - loss: 6.6064 - mae: 1.8248\n",
      "Epoch 54/150\n",
      "26/26 [==============================] - 0s 2ms/step - loss: 6.8004 - mae: 1.8761\n",
      "Epoch 55/150\n",
      "26/26 [==============================] - 0s 2ms/step - loss: 6.7522 - mae: 1.8639\n",
      "Epoch 56/150\n",
      "26/26 [==============================] - 0s 1ms/step - loss: 6.6945 - mae: 1.8097\n",
      "Epoch 57/150\n",
      "26/26 [==============================] - 0s 1ms/step - loss: 6.4100 - mae: 1.7883\n",
      "Epoch 58/150\n",
      "26/26 [==============================] - 0s 2ms/step - loss: 6.4741 - mae: 1.8223\n",
      "Epoch 59/150\n",
      "26/26 [==============================] - 0s 1ms/step - loss: 6.4087 - mae: 1.7935\n",
      "Epoch 60/150\n",
      "26/26 [==============================] - 0s 1ms/step - loss: 6.3851 - mae: 1.7959\n",
      "Epoch 61/150\n",
      "26/26 [==============================] - 0s 1ms/step - loss: 6.2795 - mae: 1.7736\n",
      "Epoch 62/150\n",
      "26/26 [==============================] - 0s 2ms/step - loss: 6.2607 - mae: 1.7812\n",
      "Epoch 63/150\n",
      "26/26 [==============================] - 0s 1ms/step - loss: 6.1549 - mae: 1.7785\n",
      "Epoch 64/150\n",
      "26/26 [==============================] - 0s 1ms/step - loss: 6.1830 - mae: 1.7688\n",
      "Epoch 65/150\n",
      "26/26 [==============================] - 0s 1ms/step - loss: 5.9707 - mae: 1.7161\n",
      "Epoch 66/150\n",
      "26/26 [==============================] - 0s 1ms/step - loss: 5.9860 - mae: 1.7357\n",
      "Epoch 67/150\n",
      "26/26 [==============================] - 0s 1ms/step - loss: 5.9316 - mae: 1.7191\n",
      "Epoch 68/150\n",
      "26/26 [==============================] - 0s 1ms/step - loss: 5.9378 - mae: 1.7299\n",
      "Epoch 69/150\n",
      "26/26 [==============================] - 0s 1ms/step - loss: 5.7951 - mae: 1.7280\n",
      "Epoch 70/150\n",
      "26/26 [==============================] - 0s 1ms/step - loss: 5.6859 - mae: 1.7035\n",
      "Epoch 71/150\n",
      "26/26 [==============================] - 0s 1ms/step - loss: 5.8708 - mae: 1.7272\n",
      "Epoch 72/150\n",
      "26/26 [==============================] - 0s 1ms/step - loss: 5.7578 - mae: 1.6937\n",
      "Epoch 73/150\n",
      "26/26 [==============================] - 0s 1ms/step - loss: 5.4820 - mae: 1.6491\n",
      "Epoch 74/150\n",
      "26/26 [==============================] - 0s 1ms/step - loss: 5.7415 - mae: 1.7190\n",
      "Epoch 75/150\n",
      "26/26 [==============================] - 0s 1ms/step - loss: 5.4410 - mae: 1.6891\n",
      "Epoch 76/150\n",
      "26/26 [==============================] - 0s 1ms/step - loss: 5.5452 - mae: 1.6682\n",
      "Epoch 77/150\n",
      "26/26 [==============================] - 0s 1ms/step - loss: 5.3449 - mae: 1.6537\n",
      "Epoch 78/150\n",
      "26/26 [==============================] - 0s 1ms/step - loss: 5.5150 - mae: 1.6473\n",
      "Epoch 79/150\n",
      "26/26 [==============================] - 0s 1ms/step - loss: 5.3518 - mae: 1.6500\n",
      "Epoch 80/150\n",
      "26/26 [==============================] - 0s 1ms/step - loss: 5.3122 - mae: 1.6196\n",
      "Epoch 81/150\n",
      "26/26 [==============================] - 0s 1ms/step - loss: 5.2805 - mae: 1.6478\n",
      "Epoch 82/150\n",
      "26/26 [==============================] - 0s 1ms/step - loss: 5.2415 - mae: 1.6435\n",
      "Epoch 83/150\n",
      "26/26 [==============================] - 0s 1ms/step - loss: 5.0923 - mae: 1.6068\n",
      "Epoch 84/150\n",
      "26/26 [==============================] - 0s 1ms/step - loss: 5.0700 - mae: 1.6113\n",
      "Epoch 85/150\n",
      "26/26 [==============================] - 0s 1ms/step - loss: 5.1931 - mae: 1.6136\n",
      "Epoch 86/150\n",
      "26/26 [==============================] - 0s 1ms/step - loss: 5.1457 - mae: 1.6049\n",
      "Epoch 87/150\n"
     ]
    },
    {
     "name": "stdout",
     "output_type": "stream",
     "text": [
      "26/26 [==============================] - 0s 1ms/step - loss: 4.9128 - mae: 1.5740\n",
      "Epoch 88/150\n",
      "26/26 [==============================] - 0s 1ms/step - loss: 5.0793 - mae: 1.5892\n",
      "Epoch 89/150\n",
      "26/26 [==============================] - 0s 1ms/step - loss: 4.8538 - mae: 1.5922\n",
      "Epoch 90/150\n",
      "26/26 [==============================] - 0s 1ms/step - loss: 4.8348 - mae: 1.5668\n",
      "Epoch 91/150\n",
      "26/26 [==============================] - 0s 1ms/step - loss: 4.7378 - mae: 1.5534\n",
      "Epoch 92/150\n",
      "26/26 [==============================] - 0s 1ms/step - loss: 4.8162 - mae: 1.5813\n",
      "Epoch 93/150\n",
      "26/26 [==============================] - 0s 1ms/step - loss: 4.6816 - mae: 1.5397\n",
      "Epoch 94/150\n",
      "26/26 [==============================] - 0s 1ms/step - loss: 4.8123 - mae: 1.5551\n",
      "Epoch 95/150\n",
      "26/26 [==============================] - 0s 1ms/step - loss: 4.6254 - mae: 1.5245\n",
      "Epoch 96/150\n",
      "26/26 [==============================] - 0s 1ms/step - loss: 4.6867 - mae: 1.5321\n",
      "Epoch 97/150\n",
      "26/26 [==============================] - 0s 1ms/step - loss: 4.6250 - mae: 1.5527\n",
      "Epoch 98/150\n",
      "26/26 [==============================] - 0s 1ms/step - loss: 4.4771 - mae: 1.5154\n",
      "Epoch 99/150\n",
      "26/26 [==============================] - 0s 1ms/step - loss: 4.6269 - mae: 1.5214\n",
      "Epoch 100/150\n",
      "26/26 [==============================] - 0s 1ms/step - loss: 4.5969 - mae: 1.5448\n",
      "Epoch 101/150\n",
      "26/26 [==============================] - 0s 1ms/step - loss: 4.3126 - mae: 1.4903\n",
      "Epoch 102/150\n",
      "26/26 [==============================] - 0s 1ms/step - loss: 4.4866 - mae: 1.5486\n",
      "Epoch 103/150\n",
      "26/26 [==============================] - 0s 2ms/step - loss: 4.4775 - mae: 1.5229\n",
      "Epoch 104/150\n",
      "26/26 [==============================] - 0s 2ms/step - loss: 4.6667 - mae: 1.5262\n",
      "Epoch 105/150\n",
      "26/26 [==============================] - 0s 1ms/step - loss: 4.2065 - mae: 1.4731\n",
      "Epoch 106/150\n",
      "26/26 [==============================] - 0s 1ms/step - loss: 4.2665 - mae: 1.4686\n",
      "Epoch 107/150\n",
      "26/26 [==============================] - 0s 1ms/step - loss: 4.3192 - mae: 1.4742\n",
      "Epoch 108/150\n",
      "26/26 [==============================] - 0s 2ms/step - loss: 4.2514 - mae: 1.4579\n",
      "Epoch 109/150\n",
      "26/26 [==============================] - 0s 1ms/step - loss: 4.1973 - mae: 1.4428\n",
      "Epoch 110/150\n",
      "26/26 [==============================] - 0s 1ms/step - loss: 4.2053 - mae: 1.4813\n",
      "Epoch 111/150\n",
      "26/26 [==============================] - 0s 1ms/step - loss: 4.1229 - mae: 1.4698\n",
      "Epoch 112/150\n",
      "26/26 [==============================] - 0s 2ms/step - loss: 4.1151 - mae: 1.4539\n",
      "Epoch 113/150\n",
      "26/26 [==============================] - 0s 1ms/step - loss: 4.0785 - mae: 1.4836\n",
      "Epoch 114/150\n",
      "26/26 [==============================] - 0s 1ms/step - loss: 4.1839 - mae: 1.4494\n",
      "Epoch 115/150\n",
      "26/26 [==============================] - 0s 1ms/step - loss: 4.0694 - mae: 1.4293\n",
      "Epoch 116/150\n",
      "26/26 [==============================] - 0s 1ms/step - loss: 4.0865 - mae: 1.4628\n",
      "Epoch 117/150\n",
      "26/26 [==============================] - 0s 2ms/step - loss: 3.9630 - mae: 1.4234\n",
      "Epoch 118/150\n",
      "26/26 [==============================] - 0s 2ms/step - loss: 3.9575 - mae: 1.4287\n",
      "Epoch 119/150\n",
      "26/26 [==============================] - 0s 1ms/step - loss: 4.0572 - mae: 1.4237\n",
      "Epoch 120/150\n",
      "26/26 [==============================] - 0s 1ms/step - loss: 3.9510 - mae: 1.4220\n",
      "Epoch 121/150\n",
      "26/26 [==============================] - 0s 1ms/step - loss: 3.7993 - mae: 1.3848\n",
      "Epoch 122/150\n",
      "26/26 [==============================] - 0s 1ms/step - loss: 3.7863 - mae: 1.4077\n",
      "Epoch 123/150\n",
      "26/26 [==============================] - 0s 1ms/step - loss: 3.8565 - mae: 1.4078\n",
      "Epoch 124/150\n",
      "26/26 [==============================] - 0s 1ms/step - loss: 3.8503 - mae: 1.3778\n",
      "Epoch 125/150\n",
      "26/26 [==============================] - 0s 1ms/step - loss: 3.8131 - mae: 1.4033\n",
      "Epoch 126/150\n",
      "26/26 [==============================] - 0s 2ms/step - loss: 3.7030 - mae: 1.3633\n",
      "Epoch 127/150\n",
      "26/26 [==============================] - 0s 1ms/step - loss: 3.7246 - mae: 1.3868\n",
      "Epoch 128/150\n",
      "26/26 [==============================] - 0s 1ms/step - loss: 3.7119 - mae: 1.3805\n",
      "Epoch 129/150\n",
      "26/26 [==============================] - 0s 1ms/step - loss: 3.6375 - mae: 1.3443\n",
      "Epoch 130/150\n",
      "26/26 [==============================] - 0s 1ms/step - loss: 3.7524 - mae: 1.4057\n",
      "Epoch 131/150\n",
      "26/26 [==============================] - 0s 1ms/step - loss: 3.6427 - mae: 1.3660\n",
      "Epoch 132/150\n",
      "26/26 [==============================] - 0s 1ms/step - loss: 3.5187 - mae: 1.3397\n",
      "Epoch 133/150\n",
      "26/26 [==============================] - 0s 1ms/step - loss: 3.5616 - mae: 1.3410\n",
      "Epoch 134/150\n",
      "26/26 [==============================] - 0s 1ms/step - loss: 3.6822 - mae: 1.3878\n",
      "Epoch 135/150\n",
      "26/26 [==============================] - 0s 1ms/step - loss: 3.3352 - mae: 1.3321\n",
      "Epoch 136/150\n",
      "26/26 [==============================] - 0s 1ms/step - loss: 3.5038 - mae: 1.3366\n",
      "Epoch 137/150\n",
      "26/26 [==============================] - 0s 1ms/step - loss: 3.5518 - mae: 1.3452\n",
      "Epoch 138/150\n",
      "26/26 [==============================] - 0s 1ms/step - loss: 3.4584 - mae: 1.3090\n",
      "Epoch 139/150\n",
      "26/26 [==============================] - 0s 1ms/step - loss: 3.4983 - mae: 1.3375\n",
      "Epoch 140/150\n",
      "26/26 [==============================] - 0s 1ms/step - loss: 3.4291 - mae: 1.3280\n",
      "Epoch 141/150\n",
      "26/26 [==============================] - 0s 1ms/step - loss: 3.3623 - mae: 1.3159\n",
      "Epoch 142/150\n",
      "26/26 [==============================] - 0s 1ms/step - loss: 3.4055 - mae: 1.3200\n",
      "Epoch 143/150\n",
      "26/26 [==============================] - 0s 1ms/step - loss: 3.3037 - mae: 1.2942\n",
      "Epoch 144/150\n",
      "26/26 [==============================] - 0s 1ms/step - loss: 3.3342 - mae: 1.3079\n",
      "Epoch 145/150\n",
      "26/26 [==============================] - 0s 1ms/step - loss: 3.4207 - mae: 1.3154\n",
      "Epoch 146/150\n",
      "26/26 [==============================] - 0s 1ms/step - loss: 3.2348 - mae: 1.2796\n",
      "Epoch 147/150\n",
      "26/26 [==============================] - 0s 1ms/step - loss: 3.2709 - mae: 1.2686\n",
      "Epoch 148/150\n",
      "26/26 [==============================] - 0s 2ms/step - loss: 3.3207 - mae: 1.2938\n",
      "Epoch 149/150\n",
      "26/26 [==============================] - 0s 1ms/step - loss: 3.2591 - mae: 1.2691\n",
      "Epoch 150/150\n",
      "26/26 [==============================] - 0s 1ms/step - loss: 3.3132 - mae: 1.3060\n",
      "4/4 [==============================] - 0s 1ms/step - loss: 12.8607 - mae: 2.5231\n"
     ]
    }
   ],
   "source": [
    "network = build_network()\n",
    "network.fit(x_train, y_train, epochs=150, batch_size=16)\n",
    "results = network.evaluate(x_test, y_test)"
   ]
  },
  {
   "cell_type": "code",
   "execution_count": 53,
   "metadata": {},
   "outputs": [
    {
     "name": "stdout",
     "output_type": "stream",
     "text": [
      "[12.860669136047363, 2.52311110496521]\n"
     ]
    }
   ],
   "source": [
    "print(results)"
   ]
  }
 ],
 "metadata": {
  "kernelspec": {
   "display_name": "Python 3",
   "language": "python",
   "name": "python3"
  },
  "language_info": {
   "codemirror_mode": {
    "name": "ipython",
    "version": 3
   },
   "file_extension": ".py",
   "mimetype": "text/x-python",
   "name": "python",
   "nbconvert_exporter": "python",
   "pygments_lexer": "ipython3",
   "version": "3.8.5"
  }
 },
 "nbformat": 4,
 "nbformat_minor": 4
}
