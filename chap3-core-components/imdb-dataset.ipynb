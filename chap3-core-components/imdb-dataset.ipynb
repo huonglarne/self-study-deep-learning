{
 "cells": [
  {
   "cell_type": "code",
   "execution_count": 23,
   "metadata": {},
   "outputs": [
    {
     "name": "stderr",
     "output_type": "stream",
     "text": [
      "/home/huong/.local/lib/python3.8/site-packages/tensorflow/python/keras/datasets/imdb.py:155: VisibleDeprecationWarning: Creating an ndarray from ragged nested sequences (which is a list-or-tuple of lists-or-tuples-or ndarrays with different lengths or shapes) is deprecated. If you meant to do this, you must specify 'dtype=object' when creating the ndarray\n",
      "  x_train, y_train = np.array(xs[:idx]), np.array(labels[:idx])\n",
      "/home/huong/.local/lib/python3.8/site-packages/tensorflow/python/keras/datasets/imdb.py:156: VisibleDeprecationWarning: Creating an ndarray from ragged nested sequences (which is a list-or-tuple of lists-or-tuples-or ndarrays with different lengths or shapes) is deprecated. If you meant to do this, you must specify 'dtype=object' when creating the ndarray\n",
      "  x_test, y_test = np.array(xs[idx:]), np.array(labels[idx:])\n"
     ]
    }
   ],
   "source": [
    "from keras.datasets import imdb\n",
    "\n",
    "(train_data, train_labels), (test_data, test_labels) = imdb.load_data(num_words=10000)"
   ]
  },
  {
   "cell_type": "code",
   "execution_count": 2,
   "metadata": {},
   "outputs": [
    {
     "name": "stdout",
     "output_type": "stream",
     "text": [
      "(25000,) (25000,)\n",
      "(25000,) (25000,)\n"
     ]
    }
   ],
   "source": [
    "print(train_data.shape, train_labels.shape)\n",
    "\n",
    "print(test_data.shape, train_labels.shape)"
   ]
  },
  {
   "cell_type": "code",
   "execution_count": 3,
   "metadata": {},
   "outputs": [],
   "source": [
    "# each word is a key in a dict and is represented by its dict value\n",
    "# this code is to decode it back to text\n",
    "\n",
    "word_index = imdb.get_word_index()\n",
    "reverse_word_index = dict([(value, key) for\n",
    "                           (key, value) in word_index.items()])\n",
    "decoded_review = ' '.join([reverse_word_index.get(i - 3, '?') for\n",
    "                          i in train_data[4]])"
   ]
  },
  {
   "cell_type": "code",
   "execution_count": 4,
   "metadata": {},
   "outputs": [
    {
     "name": "stdout",
     "output_type": "stream",
     "text": [
      "? worst mistake of my life br br i picked this movie up at target for 5 because i figured hey it's sandler i can get some cheap laughs i was wrong completely wrong mid way through the film all three of my friends were asleep and i was still suffering worst plot worst script worst movie i have ever seen i wanted to hit my head up against a wall for an hour then i'd stop and you know why because it felt damn good upon bashing my head in i stuck that damn movie in the ? and watched it burn and that felt better than anything else i've ever done it took american psycho army of darkness and kill bill just to get over that crap i hate you sandler for actually going through with this and ruining a whole day of my life\n"
     ]
    }
   ],
   "source": [
    "print(decoded_review)"
   ]
  },
  {
   "cell_type": "code",
   "execution_count": 5,
   "metadata": {},
   "outputs": [],
   "source": [
    "import numpy as np\n",
    "\n",
    "def vectorize_sequences(sequences, dimension = 10000):\n",
    "    results = np.zeros((len(sequences), dimension))\n",
    "    for i, index in enumerate(sequences):\n",
    "        results[i, index] = 1.\n",
    "    return results\n",
    "\n",
    "x_train = vectorize_sequences(train_data)\n",
    "x_test = vectorize_sequences(test_data)"
   ]
  },
  {
   "cell_type": "markdown",
   "metadata": {},
   "source": [
    "Create a numpy array that represents the input data as vectors of 0s and 1s. \n",
    "\n",
    "The length of each row is the number of words in the dict, which is 10000, the value of each word is its index in the array.\n",
    "\n",
    "If a word appears in the piece of text, its value is 1. Other wise, it is 0."
   ]
  },
  {
   "cell_type": "code",
   "execution_count": 6,
   "metadata": {},
   "outputs": [
    {
     "name": "stdout",
     "output_type": "stream",
     "text": [
      "[0. 1. 1. ... 0. 0. 0.] (25000, 10000)\n"
     ]
    }
   ],
   "source": [
    "print(x_train[8], x_train.shape)\n"
   ]
  },
  {
   "cell_type": "code",
   "execution_count": 7,
   "metadata": {},
   "outputs": [],
   "source": [
    "y_train = np.asarray(train_labels).astype('float32')\n",
    "y_test = np.asarray(test_labels).astype('float32')\n",
    "\n",
    "# remember to vectorize labels"
   ]
  },
  {
   "cell_type": "code",
   "execution_count": 8,
   "metadata": {},
   "outputs": [
    {
     "name": "stdout",
     "output_type": "stream",
     "text": [
      "<class 'numpy.ndarray'> <class 'numpy.ndarray'>\n"
     ]
    }
   ],
   "source": [
    "print(type(x_train), type(y_train))"
   ]
  },
  {
   "cell_type": "code",
   "execution_count": 9,
   "metadata": {},
   "outputs": [],
   "source": [
    "from keras import models, layers\n",
    "\n",
    "network = models.Sequential()\n",
    "\n",
    "network.add(layers.Dense(16, activation='relu', input_shape=(10000,)))\n",
    "network.add(layers.Dense(16, activation='relu'))\n",
    "network.add(layers.Dense(1, activation='sigmoid'))\n",
    "# sigmoid is similar to softmax but for binary classification"
   ]
  },
  {
   "cell_type": "code",
   "execution_count": 10,
   "metadata": {},
   "outputs": [],
   "source": [
    "from keras import optimizers, losses, metrics\n",
    "\n",
    "network.compile(optimizer=optimizers.RMSprop(lr=0.001),\n",
    "             loss=losses.binary_crossentropy,\n",
    "            # this loss function is specialized for binary output\n",
    "             metrics=[metrics.binary_accuracy])\n"
   ]
  },
  {
   "cell_type": "code",
   "execution_count": 11,
   "metadata": {},
   "outputs": [
    {
     "name": "stdout",
     "output_type": "stream",
     "text": [
      "Epoch 1/20\n",
      "40/40 [==============================] - 1s 17ms/step - loss: 0.4973 - binary_accuracy: 0.7897 - val_loss: 0.3792 - val_binary_accuracy: 0.8506\n",
      "Epoch 2/20\n",
      "40/40 [==============================] - 1s 14ms/step - loss: 0.2837 - binary_accuracy: 0.9060 - val_loss: 0.3054 - val_binary_accuracy: 0.8846\n",
      "Epoch 3/20\n",
      "40/40 [==============================] - 1s 15ms/step - loss: 0.2108 - binary_accuracy: 0.9288 - val_loss: 0.3454 - val_binary_accuracy: 0.8614\n",
      "Epoch 4/20\n",
      "40/40 [==============================] - 1s 15ms/step - loss: 0.1710 - binary_accuracy: 0.9422 - val_loss: 0.2756 - val_binary_accuracy: 0.8954\n",
      "Epoch 5/20\n",
      "40/40 [==============================] - 1s 15ms/step - loss: 0.1441 - binary_accuracy: 0.9513 - val_loss: 0.2919 - val_binary_accuracy: 0.8906\n",
      "Epoch 6/20\n",
      "40/40 [==============================] - 1s 15ms/step - loss: 0.1210 - binary_accuracy: 0.9597 - val_loss: 0.3210 - val_binary_accuracy: 0.8840\n",
      "Epoch 7/20\n",
      "40/40 [==============================] - 1s 15ms/step - loss: 0.1016 - binary_accuracy: 0.9675 - val_loss: 0.3516 - val_binary_accuracy: 0.8798\n",
      "Epoch 8/20\n",
      "40/40 [==============================] - 1s 15ms/step - loss: 0.0863 - binary_accuracy: 0.9725 - val_loss: 0.3488 - val_binary_accuracy: 0.8846\n",
      "Epoch 9/20\n",
      "40/40 [==============================] - 1s 15ms/step - loss: 0.0737 - binary_accuracy: 0.9779 - val_loss: 0.4057 - val_binary_accuracy: 0.8738\n",
      "Epoch 10/20\n",
      "40/40 [==============================] - 1s 15ms/step - loss: 0.0603 - binary_accuracy: 0.9827 - val_loss: 0.4215 - val_binary_accuracy: 0.8740\n",
      "Epoch 11/20\n",
      "40/40 [==============================] - 1s 15ms/step - loss: 0.0506 - binary_accuracy: 0.9867 - val_loss: 0.4452 - val_binary_accuracy: 0.8736\n",
      "Epoch 12/20\n",
      "40/40 [==============================] - 1s 15ms/step - loss: 0.0422 - binary_accuracy: 0.9895 - val_loss: 0.4583 - val_binary_accuracy: 0.8758\n",
      "Epoch 13/20\n",
      "40/40 [==============================] - 1s 15ms/step - loss: 0.0330 - binary_accuracy: 0.9923 - val_loss: 0.4963 - val_binary_accuracy: 0.8744\n",
      "Epoch 14/20\n",
      "40/40 [==============================] - 1s 15ms/step - loss: 0.0274 - binary_accuracy: 0.9945 - val_loss: 0.5200 - val_binary_accuracy: 0.8740\n",
      "Epoch 15/20\n",
      "40/40 [==============================] - 1s 15ms/step - loss: 0.0248 - binary_accuracy: 0.9940 - val_loss: 0.5527 - val_binary_accuracy: 0.8722\n",
      "Epoch 16/20\n",
      "40/40 [==============================] - 1s 15ms/step - loss: 0.0167 - binary_accuracy: 0.9962 - val_loss: 0.6245 - val_binary_accuracy: 0.8716\n",
      "Epoch 17/20\n",
      "40/40 [==============================] - 1s 15ms/step - loss: 0.0134 - binary_accuracy: 0.9972 - val_loss: 0.6136 - val_binary_accuracy: 0.8694\n",
      "Epoch 18/20\n",
      "40/40 [==============================] - 1s 15ms/step - loss: 0.0115 - binary_accuracy: 0.9977 - val_loss: 0.6419 - val_binary_accuracy: 0.8688\n",
      "Epoch 19/20\n",
      "40/40 [==============================] - 1s 15ms/step - loss: 0.0100 - binary_accuracy: 0.9978 - val_loss: 0.6698 - val_binary_accuracy: 0.8704\n",
      "Epoch 20/20\n",
      "40/40 [==============================] - 1s 13ms/step - loss: 0.0069 - binary_accuracy: 0.9987 - val_loss: 0.7286 - val_binary_accuracy: 0.8694\n"
     ]
    }
   ],
   "source": [
    "history = network.fit(x_train, y_train,\n",
    "                      epochs=20,\n",
    "                      batch_size=512,\n",
    "                      validation_split=0.2)"
   ]
  },
  {
   "cell_type": "code",
   "execution_count": 12,
   "metadata": {},
   "outputs": [],
   "source": [
    "history_dict = history.history\n",
    "\n",
    "# the model.fit function returns a history of results\n",
    "# of the training of each epoch"
   ]
  },
  {
   "cell_type": "code",
   "execution_count": 13,
   "metadata": {},
   "outputs": [
    {
     "name": "stdout",
     "output_type": "stream",
     "text": [
      "dict_keys(['loss', 'binary_accuracy', 'val_loss', 'val_binary_accuracy'])\n"
     ]
    }
   ],
   "source": [
    "print(history_dict.keys())"
   ]
  },
  {
   "cell_type": "code",
   "execution_count": 14,
   "metadata": {},
   "outputs": [
    {
     "data": {
      "image/png": "[encoded data removed]",
      "text/plain": [
       "<Figure size 432x288 with 1 Axes>"
      ]
     },
     "metadata": {
      "needs_background": "light"
     },
     "output_type": "display_data"
    }
   ],
   "source": [
    "import matplotlib.pyplot as plt\n",
    "\n",
    "loss_values = history_dict['loss']\n",
    "val_loss_values = history_dict['val_loss']\n",
    "\n",
    "epochs = range(1, len(loss_values) + 1)\n",
    "\n",
    "plt.plot(epochs, loss_values, 'bo', label='Training loss')\n",
    "plt.plot(epochs, val_loss_values, 'b', label='Validation loss')\n",
    "\n",
    "plt.xlabel('Epochs')\n",
    "plt.ylabel('Loss')\n",
    "plt.legend()\n",
    "\n",
    "plt.show()"
   ]
  },
  {
   "cell_type": "code",
   "execution_count": 15,
   "metadata": {},
   "outputs": [
    {
     "data": {
      "image/png": "[encoded data removed]",
      "text/plain": [
       "<Figure size 432x288 with 1 Axes>"
      ]
     },
     "metadata": {
      "needs_background": "light"
     },
     "output_type": "display_data"
    }
   ],
   "source": [
    "acc_values = history_dict['binary_accuracy']\n",
    "val_acc_values = history_dict['val_binary_accuracy']\n",
    "\n",
    "plt.plot(epochs, acc_values, 'ro', label='Training accuracy')\n",
    "plt.plot(epochs, val_acc_values, 'r', label='Validation accuracy')\n",
    "\n",
    "plt.xlabel('Epochs')\n",
    "plt.ylabel('Loss')\n",
    "plt.legend()\n",
    "\n",
    "plt.show()"
   ]
  },
  {
   "cell_type": "markdown",
   "metadata": {},
   "source": [
    "The validation accuracy seems to peak at the 4th epoch. This is because the model overfitted.\n",
    "\n",
    "It's only optimizing on the training data but not generalize on the data outside of the training set.\n",
    "\n",
    "Therefore we stop training at the 4th epoch."
   ]
  },
  {
   "cell_type": "code",
   "execution_count": 16,
   "metadata": {},
   "outputs": [
    {
     "name": "stdout",
     "output_type": "stream",
     "text": [
      "Epoch 1/4\n",
      "40/40 [==============================] - 1s 14ms/step - loss: 0.0036 - binary_accuracy: 0.9998 - val_loss: 0.7408 - val_binary_accuracy: 0.8678\n",
      "Epoch 2/4\n",
      "40/40 [==============================] - 1s 15ms/step - loss: 0.0055 - binary_accuracy: 0.9987 - val_loss: 0.8031 - val_binary_accuracy: 0.8696\n",
      "Epoch 3/4\n",
      "40/40 [==============================] - 1s 16ms/step - loss: 0.0018 - binary_accuracy: 0.9998 - val_loss: 0.8657 - val_binary_accuracy: 0.8618\n",
      "Epoch 4/4\n",
      "40/40 [==============================] - 1s 14ms/step - loss: 0.0048 - binary_accuracy: 0.9986 - val_loss: 0.8684 - val_binary_accuracy: 0.8692\n"
     ]
    }
   ],
   "source": [
    "history = network.fit(x_train, y_train,\n",
    "                      epochs=4,\n",
    "                      batch_size=512,\n",
    "                      validation_split=0.2)"
   ]
  },
  {
   "cell_type": "code",
   "execution_count": 17,
   "metadata": {},
   "outputs": [
    {
     "name": "stdout",
     "output_type": "stream",
     "text": [
      "782/782 [==============================] - 2s 2ms/step - loss: 0.9606 - binary_accuracy: 0.8516\n"
     ]
    }
   ],
   "source": [
    "results = network.evaluate(x_test, y_test)"
   ]
  },
  {
   "cell_type": "code",
   "execution_count": 18,
   "metadata": {},
   "outputs": [
    {
     "name": "stdout",
     "output_type": "stream",
     "text": [
      "[0.9605830311775208, 0.8515599966049194]\n"
     ]
    }
   ],
   "source": [
    "print(results)"
   ]
  },
  {
   "cell_type": "code",
   "execution_count": 19,
   "metadata": {
    "scrolled": true
   },
   "outputs": [
    {
     "data": {
      "text/plain": [
       "array([[1.7146319e-02],\n",
       "       [1.0000000e+00],\n",
       "       [1.9150972e-04],\n",
       "       ...,\n",
       "       [6.8706274e-02],\n",
       "       [2.5162101e-04],\n",
       "       [2.0313531e-02]], dtype=float32)"
      ]
     },
     "execution_count": 19,
     "metadata": {},
     "output_type": "execute_result"
    }
   ],
   "source": [
    "network.predict(x_test)"
   ]
  },
  {
   "cell_type": "markdown",
   "metadata": {},
   "source": [
    "Final notes:\n",
    "\n",
    "There are two ways to handle labels in multiclass classification:\n",
    "\n",
    "Encoding the labels via categorical encoding and using categorical_crossentropy as a loss function.\n",
    "\n",
    "Encoding the labels as integers and using the sparse_categorical_crossentropy loss function.\n",
    "\n",
    "If you need to classify data into a large number of categories, avoid creating information bottlenecks in your network due to too small intermediate layers."
   ]
  },
  {
   "cell_type": "markdown",
   "metadata": {},
   "source": [
    "Experiment time yay!\n",
    "\n",
    "Now we try to set up different layers and stuff to see if the model in the textbook is the best one."
   ]
  },
  {
   "cell_type": "code",
   "execution_count": 20,
   "metadata": {},
   "outputs": [],
   "source": [
    "experiment_model = models.Sequential()"
   ]
  },
  {
   "cell_type": "code",
   "execution_count": 21,
   "metadata": {},
   "outputs": [],
   "source": [
    "experiment_model.add(layers.Dense(32, activation='relu', input_shape=(10000,)))\n",
    "experiment_model.add(layers.Dense(16, activation='relu'))\n",
    "experiment_model.add(layers.Dense(1, activation='sigmoid'))"
   ]
  },
  {
   "cell_type": "code",
   "execution_count": 22,
   "metadata": {},
   "outputs": [
    {
     "name": "stdout",
     "output_type": "stream",
     "text": [
      "Epoch 1/5\n",
      "30/30 [==============================] - 1s 18ms/step - loss: 0.0011 - binary_accuracy: 0.9999 - val_loss: 0.4474 - val_binary_accuracy: 0.9346\n",
      "Epoch 2/5\n",
      "30/30 [==============================] - 1s 18ms/step - loss: 7.8875e-04 - binary_accuracy: 0.9999 - val_loss: 0.4659 - val_binary_accuracy: 0.9340\n",
      "Epoch 3/5\n",
      "30/30 [==============================] - 1s 18ms/step - loss: 0.0058 - binary_accuracy: 0.9985 - val_loss: 0.4832 - val_binary_accuracy: 0.9330\n",
      "Epoch 4/5\n",
      "30/30 [==============================] - 1s 19ms/step - loss: 3.6975e-04 - binary_accuracy: 1.0000 - val_loss: 0.4997 - val_binary_accuracy: 0.9341\n",
      "Epoch 5/5\n",
      "30/30 [==============================] - 1s 17ms/step - loss: 2.9184e-04 - binary_accuracy: 1.0000 - val_loss: 0.5082 - val_binary_accuracy: 0.9332\n",
      "dict_keys(['loss', 'binary_accuracy', 'val_loss', 'val_binary_accuracy'])\n"
     ]
    }
   ],
   "source": [
    "experiment_model.compile(optimizer=optimizers.RMSprop(lr=0.0005,\n",
    "                                                        rho=0.9,\n",
    "                                                        momentum=0.2,\n",
    "                                                        epsilon=1e-07,\n",
    "                                                        centered=True),\n",
    "                             loss=losses.binary_crossentropy,\n",
    "                             metrics=[metrics.binary_accuracy])\n",
    "history = network.fit(x_train, y_train,\n",
    "            epochs=5,\n",
    "            batch_size=512,\n",
    "            validation_split=0.4\n",
    "            )\n",
    "history_dict = history.history\n",
    "print(history_dict.keys())\n"
   ]
  },
  {
   "cell_type": "code",
   "execution_count": null,
   "metadata": {},
   "outputs": [],
   "source": []
  }
 ],
 "metadata": {
  "kernelspec": {
   "display_name": "Python 3",
   "language": "python",
   "name": "python3"
  },
  "language_info": {
   "codemirror_mode": {
    "name": "ipython",
    "version": 3
   },
   "file_extension": ".py",
   "mimetype": "text/x-python",
   "name": "python",
   "nbconvert_exporter": "python",
   "pygments_lexer": "ipython3",
   "version": "3.8.5"
  }
 },
 "nbformat": 4,
 "nbformat_minor": 4
}
