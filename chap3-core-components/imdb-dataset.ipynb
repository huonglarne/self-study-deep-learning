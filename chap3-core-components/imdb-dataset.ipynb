{
 "cells": [
  {
   "cell_type": "code",
   "execution_count": 1,
   "metadata": {},
   "outputs": [],
   "source": [
    "from keras.datasets import imdb\n",
    "\n",
    "(train_data, train_labels), (test_data, test_labels) = imdb.load_data(num_words=10000)"
   ]
  },
  {
   "cell_type": "code",
   "execution_count": 2,
   "metadata": {},
   "outputs": [
    {
     "name": "stdout",
     "output_type": "stream",
     "text": [
      "(25000,) (25000,)\n",
      "(25000,) (25000,)\n"
     ]
    }
   ],
   "source": [
    "print(train_data.shape, train_labels.shape)\n",
    "\n",
    "print(test_data.shape, train_labels.shape)"
   ]
  },
  {
   "cell_type": "code",
   "execution_count": 3,
   "metadata": {},
   "outputs": [],
   "source": [
    "# each word is a key in a dict and is represented by its dict value\n",
    "# this code is to decode it back to text\n",
    "\n",
    "word_index = imdb.get_word_index()\n",
    "reverse_word_index = dict([(value, key) for\n",
    "                           (key, value) in word_index.items()])\n",
    "decoded_review = ' '.join([reverse_word_index.get(i - 3, '?') for\n",
    "                          i in train_data[4]])"
   ]
  },
  {
   "cell_type": "code",
   "execution_count": 4,
   "metadata": {},
   "outputs": [
    {
     "name": "stdout",
     "output_type": "stream",
     "text": [
      "? worst mistake of my life br br i picked this movie up at target for 5 because i figured hey it's sandler i can get some cheap laughs i was wrong completely wrong mid way through the film all three of my friends were asleep and i was still suffering worst plot worst script worst movie i have ever seen i wanted to hit my head up against a wall for an hour then i'd stop and you know why because it felt damn good upon bashing my head in i stuck that damn movie in the ? and watched it burn and that felt better than anything else i've ever done it took american psycho army of darkness and kill bill just to get over that crap i hate you sandler for actually going through with this and ruining a whole day of my life\n"
     ]
    }
   ],
   "source": [
    "print(decoded_review)"
   ]
  },
  {
   "cell_type": "code",
   "execution_count": 5,
   "metadata": {},
   "outputs": [],
   "source": [
    "import numpy as np\n",
    "\n",
    "def vectorize_sequences(sequences, dimension = 10000):\n",
    "    results = np.zeros((len(sequences), dimension))\n",
    "    for i, index in enumerate(sequences):\n",
    "        results[i, index] = 1.\n",
    "    return results\n",
    "\n",
    "x_train = vectorize_sequences(train_data)\n",
    "x_test = vectorize_sequences(test_data)"
   ]
  },
  {
   "cell_type": "markdown",
   "metadata": {},
   "source": [
    "Create a numpy array that represents the input data as vectors of 0s and 1s. \n",
    "\n",
    "The length of each row is the number of words in the dict, which is 10000, the value of each word is its index in the array.\n",
    "\n",
    "If a word appears in the piece of text, its value is 1. Other wise, it is 0."
   ]
  },
  {
   "cell_type": "code",
   "execution_count": 6,
   "metadata": {},
   "outputs": [
    {
     "name": "stdout",
     "output_type": "stream",
     "text": [
      "[0. 1. 1. ... 0. 0. 0.] (25000, 10000)\n"
     ]
    }
   ],
   "source": [
    "print(x_train[8], x_train.shape)\n"
   ]
  },
  {
   "cell_type": "code",
   "execution_count": 7,
   "metadata": {},
   "outputs": [],
   "source": [
    "y_train = np.asarray(train_labels).astype('float32')\n",
    "y_test = np.asarray(test_labels).astype('float32')\n",
    "\n",
    "# remember to vectorize labels"
   ]
  },
  {
   "cell_type": "code",
   "execution_count": 8,
   "metadata": {},
   "outputs": [
    {
     "name": "stdout",
     "output_type": "stream",
     "text": [
      "<class 'numpy.ndarray'> <class 'numpy.ndarray'>\n"
     ]
    }
   ],
   "source": [
    "print(type(x_train), type(y_train))"
   ]
  },
  {
   "cell_type": "code",
   "execution_count": 9,
   "metadata": {},
   "outputs": [],
   "source": [
    "from keras import models, layers\n",
    "\n",
    "network = models.Sequential()\n",
    "\n",
    "network.add(layers.Dense(16, activation='relu', input_shape=(10000,)))\n",
    "network.add(layers.Dense(16, activation='relu'))\n",
    "network.add(layers.Dense(1, activation='sigmoid'))\n",
    "# sigmoid is similar to softmax but for binary classification"
   ]
  },
  {
   "cell_type": "code",
   "execution_count": 10,
   "metadata": {},
   "outputs": [],
   "source": [
    "from keras import optimizers, losses, metrics\n",
    "\n",
    "network.compile(optimizer=optimizers.RMSprop(lr=0.001),\n",
    "             loss=losses.binary_crossentropy,\n",
    "            # this loss function is specialized for binary output\n",
    "             metrics=[metrics.binary_accuracy])\n"
   ]
  },
  {
   "cell_type": "code",
   "execution_count": 11,
   "metadata": {},
   "outputs": [
    {
     "name": "stdout",
     "output_type": "stream",
     "text": [
      "Epoch 1/20\n",
      "40/40 [==============================] - 1s 18ms/step - loss: 0.5355 - binary_accuracy: 0.7629 - val_loss: 0.4191 - val_binary_accuracy: 0.8374\n",
      "Epoch 2/20\n",
      "40/40 [==============================] - 1s 17ms/step - loss: 0.3226 - binary_accuracy: 0.9026 - val_loss: 0.3176 - val_binary_accuracy: 0.8818\n",
      "Epoch 3/20\n",
      "40/40 [==============================] - 1s 15ms/step - loss: 0.2299 - binary_accuracy: 0.9269 - val_loss: 0.3312 - val_binary_accuracy: 0.8644\n",
      "Epoch 4/20\n",
      "40/40 [==============================] - 1s 15ms/step - loss: 0.1834 - binary_accuracy: 0.9401 - val_loss: 0.2847 - val_binary_accuracy: 0.8914\n",
      "Epoch 5/20\n",
      "40/40 [==============================] - 1s 15ms/step - loss: 0.1504 - binary_accuracy: 0.9520 - val_loss: 0.4009 - val_binary_accuracy: 0.8478\n",
      "Epoch 6/20\n",
      "40/40 [==============================] - 1s 15ms/step - loss: 0.1309 - binary_accuracy: 0.9578 - val_loss: 0.3046 - val_binary_accuracy: 0.8900\n",
      "Epoch 7/20\n",
      "40/40 [==============================] - 1s 15ms/step - loss: 0.1096 - binary_accuracy: 0.9658 - val_loss: 0.3241 - val_binary_accuracy: 0.8846\n",
      "Epoch 8/20\n",
      "40/40 [==============================] - 1s 17ms/step - loss: 0.0946 - binary_accuracy: 0.9704 - val_loss: 0.3829 - val_binary_accuracy: 0.8726\n",
      "Epoch 9/20\n",
      "40/40 [==============================] - 1s 16ms/step - loss: 0.0814 - binary_accuracy: 0.9761 - val_loss: 0.3842 - val_binary_accuracy: 0.8754\n",
      "Epoch 10/20\n",
      "40/40 [==============================] - 1s 16ms/step - loss: 0.0697 - binary_accuracy: 0.9804 - val_loss: 0.4060 - val_binary_accuracy: 0.8770\n",
      "Epoch 11/20\n",
      "40/40 [==============================] - 1s 16ms/step - loss: 0.0602 - binary_accuracy: 0.9832 - val_loss: 0.4148 - val_binary_accuracy: 0.8760\n",
      "Epoch 12/20\n",
      "40/40 [==============================] - 1s 16ms/step - loss: 0.0487 - binary_accuracy: 0.9880 - val_loss: 0.4334 - val_binary_accuracy: 0.8768\n",
      "Epoch 13/20\n",
      "40/40 [==============================] - 1s 16ms/step - loss: 0.0405 - binary_accuracy: 0.9908 - val_loss: 0.4843 - val_binary_accuracy: 0.8746\n",
      "Epoch 14/20\n",
      "40/40 [==============================] - 1s 16ms/step - loss: 0.0343 - binary_accuracy: 0.9924 - val_loss: 0.4901 - val_binary_accuracy: 0.8760\n",
      "Epoch 15/20\n",
      "40/40 [==============================] - 1s 16ms/step - loss: 0.0292 - binary_accuracy: 0.9934 - val_loss: 0.5457 - val_binary_accuracy: 0.8714\n",
      "Epoch 16/20\n",
      "40/40 [==============================] - 1s 17ms/step - loss: 0.0223 - binary_accuracy: 0.9949 - val_loss: 0.5533 - val_binary_accuracy: 0.8696\n",
      "Epoch 17/20\n",
      "40/40 [==============================] - 1s 17ms/step - loss: 0.0181 - binary_accuracy: 0.9963 - val_loss: 0.5862 - val_binary_accuracy: 0.8720\n",
      "Epoch 18/20\n",
      "40/40 [==============================] - 1s 16ms/step - loss: 0.0145 - binary_accuracy: 0.9970 - val_loss: 0.6564 - val_binary_accuracy: 0.8674\n",
      "Epoch 19/20\n",
      "40/40 [==============================] - 1s 16ms/step - loss: 0.0129 - binary_accuracy: 0.9970 - val_loss: 0.6632 - val_binary_accuracy: 0.8686\n",
      "Epoch 20/20\n",
      "40/40 [==============================] - 1s 15ms/step - loss: 0.0100 - binary_accuracy: 0.9979 - val_loss: 0.7064 - val_binary_accuracy: 0.8698\n"
     ]
    }
   ],
   "source": [
    "history = network.fit(x_train, y_train,\n",
    "                      epochs=20,\n",
    "                      batch_size=512,\n",
    "                      validation_split=0.2)"
   ]
  },
  {
   "cell_type": "code",
   "execution_count": 12,
   "metadata": {},
   "outputs": [],
   "source": [
    "history_dict = history.history\n",
    "\n",
    "# the model.fit function returns a history of results\n",
    "# of the training of each epoch"
   ]
  },
  {
   "cell_type": "code",
   "execution_count": 13,
   "metadata": {},
   "outputs": [
    {
     "name": "stdout",
     "output_type": "stream",
     "text": [
      "dict_keys(['loss', 'binary_accuracy', 'val_loss', 'val_binary_accuracy'])\n"
     ]
    }
   ],
   "source": [
    "print(history_dict.keys())"
   ]
  },
  {
   "cell_type": "code",
   "execution_count": 14,
   "metadata": {},
   "outputs": [
    {
     "data": {
      "image/png": "[encoded data removed]",
      "text/plain": [
       "<Figure size 432x288 with 1 Axes>"
      ]
     },
     "metadata": {
      "needs_background": "light"
     },
     "output_type": "display_data"
    }
   ],
   "source": [
    "import matplotlib.pyplot as plt\n",
    "\n",
    "loss_values = history_dict['loss']\n",
    "val_loss_values = history_dict['val_loss']\n",
    "\n",
    "epochs = range(1, len(loss_values) + 1)\n",
    "\n",
    "plt.plot(epochs, loss_values, 'bo', label='Training loss')\n",
    "plt.plot(epochs, val_loss_values, 'b', label='Validation loss')\n",
    "\n",
    "plt.xlabel('Epochs')\n",
    "plt.ylabel('Loss')\n",
    "plt.legend()\n",
    "\n",
    "plt.show()"
   ]
  },
  {
   "cell_type": "code",
   "execution_count": 15,
   "metadata": {},
   "outputs": [
    {
     "data": {
      "image/png": "[encoded data removed]",
      "text/plain": [
       "<Figure size 432x288 with 1 Axes>"
      ]
     },
     "metadata": {
      "needs_background": "light"
     },
     "output_type": "display_data"
    }
   ],
   "source": [
    "acc_values = history_dict['binary_accuracy']\n",
    "val_acc_values = history_dict['val_binary_accuracy']\n",
    "\n",
    "plt.plot(epochs, acc_values, 'ro', label='Training accuracy')\n",
    "plt.plot(epochs, val_acc_values, 'r', label='Validation accuracy')\n",
    "\n",
    "plt.xlabel('Epochs')\n",
    "plt.ylabel('Loss')\n",
    "plt.legend()\n",
    "\n",
    "plt.show()"
   ]
  },
  {
   "cell_type": "markdown",
   "metadata": {},
   "source": [
    "The validation accuracy seems to peak at the 4th epoch. This is because the model overfitted.\n",
    "\n",
    "It's only optimizing on the training data but not generalize on the data outside of the training set.\n",
    "\n",
    "Therefore we stop training at the 4th epoch."
   ]
  },
  {
   "cell_type": "code",
   "execution_count": 16,
   "metadata": {},
   "outputs": [
    {
     "name": "stdout",
     "output_type": "stream",
     "text": [
      "Epoch 1/4\n",
      "40/40 [==============================] - 1s 17ms/step - loss: 0.0072 - binary_accuracy: 0.9990 - val_loss: 0.7386 - val_binary_accuracy: 0.8692\n",
      "Epoch 2/4\n",
      "40/40 [==============================] - 1s 17ms/step - loss: 0.0078 - binary_accuracy: 0.9981 - val_loss: 0.7757 - val_binary_accuracy: 0.8684\n",
      "Epoch 3/4\n",
      "40/40 [==============================] - 1s 15ms/step - loss: 0.0036 - binary_accuracy: 0.9994 - val_loss: 0.8201 - val_binary_accuracy: 0.8670\n",
      "Epoch 4/4\n",
      "40/40 [==============================] - 1s 15ms/step - loss: 0.0026 - binary_accuracy: 0.9997 - val_loss: 0.8541 - val_binary_accuracy: 0.8644\n"
     ]
    }
   ],
   "source": [
    "history = network.fit(x_train, y_train,\n",
    "                      epochs=4,\n",
    "                      batch_size=512,\n",
    "                      validation_split=0.2)"
   ]
  },
  {
   "cell_type": "code",
   "execution_count": 17,
   "metadata": {},
   "outputs": [
    {
     "name": "stdout",
     "output_type": "stream",
     "text": [
      "782/782 [==============================] - 1s 2ms/step - loss: 0.9373 - binary_accuracy: 0.8498\n"
     ]
    }
   ],
   "source": [
    "results = network.evaluate(x_test, y_test)"
   ]
  },
  {
   "cell_type": "code",
   "execution_count": 18,
   "metadata": {},
   "outputs": [
    {
     "name": "stdout",
     "output_type": "stream",
     "text": [
      "[0.9372663497924805, 0.8497599959373474]\n"
     ]
    }
   ],
   "source": [
    "print(results)"
   ]
  },
  {
   "cell_type": "code",
   "execution_count": 19,
   "metadata": {
    "scrolled": true
   },
   "outputs": [
    {
     "data": {
      "text/plain": [
       "array([[6.2333345e-03],\n",
       "       [9.9999952e-01],\n",
       "       [3.8682789e-02],\n",
       "       ...,\n",
       "       [4.8634428e-01],\n",
       "       [4.6150202e-05],\n",
       "       [9.7848088e-02]], dtype=float32)"
      ]
     },
     "execution_count": 19,
     "metadata": {},
     "output_type": "execute_result"
    }
   ],
   "source": [
    "network.predict(x_test)"
   ]
  },
  {
   "cell_type": "markdown",
   "metadata": {},
   "source": [
    "Final notes:\n",
    "\n",
    "There are two ways to handle labels in multiclass classification:\n",
    "\n",
    "Encoding the labels via categorical encoding and using categorical_crossentropy as a loss function.\n",
    "\n",
    "Encoding the labels as integers and using the sparse_categorical_crossentropy loss function.\n",
    "\n",
    "If you need to classify data into a large number of categories, avoid creating information bottlenecks in your network due to too small intermediate layers."
   ]
  },
  {
   "cell_type": "markdown",
   "metadata": {},
   "source": [
    "Experiment time yay!\n",
    "\n",
    "Now we try to set up different layers and stuff to see if the model in the textbook is the best one."
   ]
  },
  {
   "cell_type": "code",
   "execution_count": 20,
   "metadata": {},
   "outputs": [],
   "source": [
    "experiment_model = models.Sequential()"
   ]
  },
  {
   "cell_type": "code",
   "execution_count": 21,
   "metadata": {},
   "outputs": [],
   "source": [
    "experiment_model.add(layers.Dense(32, activation='relu', input_shape=(10000,)))\n",
    "experiment_model.add(layers.Dense(16, activation='relu'))\n",
    "experiment_model.add(layers.Dense(1, activation='sigmoid'))"
   ]
  },
  {
   "cell_type": "code",
   "execution_count": 22,
   "metadata": {},
   "outputs": [
    {
     "name": "stdout",
     "output_type": "stream",
     "text": [
      "Epoch 1/5\n",
      "30/30 [==============================] - 1s 18ms/step - loss: 0.0054 - binary_accuracy: 0.9985 - val_loss: 0.4435 - val_binary_accuracy: 0.9331\n",
      "Epoch 2/5\n",
      "30/30 [==============================] - 1s 18ms/step - loss: 0.0015 - binary_accuracy: 0.9997 - val_loss: 0.4621 - val_binary_accuracy: 0.9331\n",
      "Epoch 3/5\n",
      "30/30 [==============================] - 1s 19ms/step - loss: 0.0045 - binary_accuracy: 0.9985 - val_loss: 0.4665 - val_binary_accuracy: 0.9328\n",
      "Epoch 4/5\n",
      "30/30 [==============================] - 1s 18ms/step - loss: 8.6905e-04 - binary_accuracy: 0.9999 - val_loss: 0.4828 - val_binary_accuracy: 0.9332\n",
      "Epoch 5/5\n",
      "30/30 [==============================] - 0s 17ms/step - loss: 6.5823e-04 - binary_accuracy: 0.9999 - val_loss: 0.5029 - val_binary_accuracy: 0.9326\n",
      "dict_keys(['loss', 'binary_accuracy', 'val_loss', 'val_binary_accuracy'])\n"
     ]
    }
   ],
   "source": [
    "experiment_model.compile(optimizer=optimizers.RMSprop(lr=0.0005,\n",
    "                                                        rho=0.9,\n",
    "                                                        momentum=0.2,\n",
    "                                                        epsilon=1e-07,\n",
    "                                                        centered=True),\n",
    "                             loss=losses.binary_crossentropy,\n",
    "                             metrics=[metrics.binary_accuracy])\n",
    "history = network.fit(x_train, y_train,\n",
    "            epochs=5,\n",
    "            batch_size=512,\n",
    "            validation_split=0.4\n",
    "            )\n",
    "history_dict = history.history\n",
    "print(history_dict.keys())\n"
   ]
  },
  {
   "cell_type": "code",
   "execution_count": null,
   "metadata": {},
   "outputs": [],
   "source": []
  }
 ],
 "metadata": {
  "kernelspec": {
   "display_name": "Python 3",
   "language": "python",
   "name": "python3"
  },
  "language_info": {
   "codemirror_mode": {
    "name": "ipython",
    "version": 3
   },
   "file_extension": ".py",
   "mimetype": "text/x-python",
   "name": "python",
   "nbconvert_exporter": "python",
   "pygments_lexer": "ipython3",
   "version": "3.8.5"
  }
 },
 "nbformat": 4,
 "nbformat_minor": 4
}
